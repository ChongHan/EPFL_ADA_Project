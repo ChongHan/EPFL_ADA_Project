{
 "cells": [
  {
   "cell_type": "code",
   "execution_count": 1,
   "metadata": {
    "ExecuteTime": {
     "end_time": "2017-02-03T14:09:21.743817",
     "start_time": "2017-02-03T14:09:21.284171"
    },
    "collapsed": true
   },
   "outputs": [],
   "source": [
    "import pandas as pd\n",
    "import numpy as np"
   ]
  },
  {
   "cell_type": "markdown",
   "metadata": {},
   "source": [
    "Since we now have our three datasets, we can merge them into a single one. \n",
    "\n",
    "## Input Files\n",
    "\n",
    "\n",
    "- **data_withLocation.csv**\n",
    "> **Columns**: id - Canton - District <br/>\n",
    "9514097914,246,BE <br/>\n",
    "9514846412,112,ZH <br/>\n",
    "9516574359,2500,GE <br/>\n",
    "9516952605,1726,SG <br/>\n",
    "9517198943,2225,VD\n",
    "\n",
    "- **sentiment.txt**\n",
    "> **Columns**: id - Sentiment score <br/>\n",
    "9514097914\t0 <br/>\n",
    "9514846412\t3 <br/>\n",
    "9516574359\t2 <br/>\n",
    "9516952605\t1\n",
    "\n",
    "- **data_dates.csv**\n",
    "> **Columns**: id-YYYY-MM-DD <br/>\n",
    "316216215464992770,2013,3,25 <br/>\n",
    "609352873164587009,2015,6,12 <br/>\n",
    "438759513676853248,2014,2,26 <br/>\n",
    "402160362499612672,2013,11,17 <br/>\n",
    "206689780308787201,2012,5,27 <br/>\n",
    "\n"
   ]
  },
  {
   "cell_type": "markdown",
   "metadata": {},
   "source": [
    "### Data with locations"
   ]
  },
  {
   "cell_type": "code",
   "execution_count": 2,
   "metadata": {
    "ExecuteTime": {
     "end_time": "2017-02-03T14:11:05.029896",
     "start_time": "2017-02-03T14:10:58.674950"
    },
    "collapsed": false
   },
   "outputs": [
    {
     "data": {
      "text/html": [
       "<div>\n",
       "<table border=\"1\" class=\"dataframe\">\n",
       "  <thead>\n",
       "    <tr style=\"text-align: right;\">\n",
       "      <th></th>\n",
       "      <th>id</th>\n",
       "      <th>Canton</th>\n",
       "      <th>District</th>\n",
       "    </tr>\n",
       "    <tr>\n",
       "      <th>id</th>\n",
       "      <th></th>\n",
       "      <th></th>\n",
       "      <th></th>\n",
       "    </tr>\n",
       "  </thead>\n",
       "  <tbody>\n",
       "    <tr>\n",
       "      <th>9514097914</th>\n",
       "      <td>9514097914</td>\n",
       "      <td>246</td>\n",
       "      <td>BE</td>\n",
       "    </tr>\n",
       "    <tr>\n",
       "      <th>9514846412</th>\n",
       "      <td>9514846412</td>\n",
       "      <td>112</td>\n",
       "      <td>ZH</td>\n",
       "    </tr>\n",
       "    <tr>\n",
       "      <th>9516574359</th>\n",
       "      <td>9516574359</td>\n",
       "      <td>2500</td>\n",
       "      <td>GE</td>\n",
       "    </tr>\n",
       "    <tr>\n",
       "      <th>9516952605</th>\n",
       "      <td>9516952605</td>\n",
       "      <td>1726</td>\n",
       "      <td>SG</td>\n",
       "    </tr>\n",
       "    <tr>\n",
       "      <th>9517198943</th>\n",
       "      <td>9517198943</td>\n",
       "      <td>2225</td>\n",
       "      <td>VD</td>\n",
       "    </tr>\n",
       "  </tbody>\n",
       "</table>\n",
       "</div>"
      ],
      "text/plain": [
       "                    id  Canton District\n",
       "id                                     \n",
       "9514097914  9514097914     246       BE\n",
       "9514846412  9514846412     112       ZH\n",
       "9516574359  9516574359    2500       GE\n",
       "9516952605  9516952605    1726       SG\n",
       "9517198943  9517198943    2225       VD"
      ]
     },
     "execution_count": 2,
     "metadata": {},
     "output_type": "execute_result"
    }
   ],
   "source": [
    "data_with_locations = pd.read_csv('data_created/data_withLocation.csv', names=['id','Canton','District'])\n",
    "data_with_locations.index = data_with_locations.id\n",
    "data_with_locations.head()"
   ]
  },
  {
   "cell_type": "markdown",
   "metadata": {},
   "source": [
    "### Data_sentiment"
   ]
  },
  {
   "cell_type": "code",
   "execution_count": 4,
   "metadata": {
    "ExecuteTime": {
     "end_time": "2017-01-29T09:33:54.975357",
     "start_time": "2017-01-29T09:33:41.789323"
    },
    "collapsed": false
   },
   "outputs": [
    {
     "data": {
      "text/html": [
       "<div>\n",
       "<table border=\"1\" class=\"dataframe\">\n",
       "  <thead>\n",
       "    <tr style=\"text-align: right;\">\n",
       "      <th></th>\n",
       "      <th>id</th>\n",
       "      <th>Score</th>\n",
       "    </tr>\n",
       "    <tr>\n",
       "      <th>id</th>\n",
       "      <th></th>\n",
       "      <th></th>\n",
       "    </tr>\n",
       "  </thead>\n",
       "  <tbody>\n",
       "    <tr>\n",
       "      <th>9514097914</th>\n",
       "      <td>9514097914</td>\n",
       "      <td>0.0</td>\n",
       "    </tr>\n",
       "    <tr>\n",
       "      <th>9514846412</th>\n",
       "      <td>9514846412</td>\n",
       "      <td>3.0</td>\n",
       "    </tr>\n",
       "    <tr>\n",
       "      <th>9516574359</th>\n",
       "      <td>9516574359</td>\n",
       "      <td>2.0</td>\n",
       "    </tr>\n",
       "    <tr>\n",
       "      <th>9516952605</th>\n",
       "      <td>9516952605</td>\n",
       "      <td>1.0</td>\n",
       "    </tr>\n",
       "    <tr>\n",
       "      <th>9517198943</th>\n",
       "      <td>9517198943</td>\n",
       "      <td>-1.0</td>\n",
       "    </tr>\n",
       "  </tbody>\n",
       "</table>\n",
       "</div>"
      ],
      "text/plain": [
       "                    id  Score\n",
       "id                           \n",
       "9514097914  9514097914    0.0\n",
       "9514846412  9514846412    3.0\n",
       "9516574359  9516574359    2.0\n",
       "9516952605  9516952605    1.0\n",
       "9517198943  9517198943   -1.0"
      ]
     },
     "execution_count": 4,
     "metadata": {},
     "output_type": "execute_result"
    }
   ],
   "source": [
    "data_sentiment = pd.read_csv('data_created/sentiment.txt', names=[\"id\", \"Score\"], sep='\\t')\n",
    "data_sentiment = data_sentiment[~data_sentiment.id.isnull()]\n",
    "data_sentiment.index = data_sentiment.id\n",
    "data_sentiment.head()"
   ]
  },
  {
   "cell_type": "markdown",
   "metadata": {},
   "source": [
    "> We forgot to \"clean\" if before. Some indexes are not valid and this will be problematic when trying to join the datasets. Therefore, we remove all entries in the *data_sentiment* datframe wich have an invalid index."
   ]
  },
  {
   "cell_type": "code",
   "execution_count": 5,
   "metadata": {
    "ExecuteTime": {
     "end_time": "2017-01-29T09:39:43.926351",
     "start_time": "2017-01-29T09:34:18.609431"
    },
    "collapsed": false
   },
   "outputs": [],
   "source": [
    "# Index cleaning\n",
    "data_sentiment['idx'] = data_sentiment.index\n",
    "data_sentiment['isIdxValid'] = data_sentiment.apply(lambda row: str(row.idx).isdigit(), axis=1)\n",
    "data_sentiment = data_sentiment[data_sentiment.isIdxValid == True]\n",
    "data_sentiment.index = data_sentiment.index.astype('int64')"
   ]
  },
  {
   "cell_type": "markdown",
   "metadata": {},
   "source": [
    "### Data dates"
   ]
  },
  {
   "cell_type": "code",
   "execution_count": 9,
   "metadata": {
    "ExecuteTime": {
     "end_time": "2017-01-29T09:57:12.188644",
     "start_time": "2017-01-29T09:57:01.804291"
    },
    "collapsed": false,
    "scrolled": true
   },
   "outputs": [
    {
     "data": {
      "text/html": [
       "<div>\n",
       "<table border=\"1\" class=\"dataframe\">\n",
       "  <thead>\n",
       "    <tr style=\"text-align: right;\">\n",
       "      <th></th>\n",
       "      <th>id</th>\n",
       "      <th>Year</th>\n",
       "      <th>Month</th>\n",
       "      <th>Day</th>\n",
       "    </tr>\n",
       "    <tr>\n",
       "      <th>id</th>\n",
       "      <th></th>\n",
       "      <th></th>\n",
       "      <th></th>\n",
       "      <th></th>\n",
       "    </tr>\n",
       "  </thead>\n",
       "  <tbody>\n",
       "    <tr>\n",
       "      <th>9514097914</th>\n",
       "      <td>9514097914</td>\n",
       "      <td>2010</td>\n",
       "      <td>2</td>\n",
       "      <td>23</td>\n",
       "    </tr>\n",
       "    <tr>\n",
       "      <th>9514846412</th>\n",
       "      <td>9514846412</td>\n",
       "      <td>2010</td>\n",
       "      <td>2</td>\n",
       "      <td>23</td>\n",
       "    </tr>\n",
       "    <tr>\n",
       "      <th>9516574359</th>\n",
       "      <td>9516574359</td>\n",
       "      <td>2010</td>\n",
       "      <td>2</td>\n",
       "      <td>23</td>\n",
       "    </tr>\n",
       "    <tr>\n",
       "      <th>9516952605</th>\n",
       "      <td>9516952605</td>\n",
       "      <td>2010</td>\n",
       "      <td>2</td>\n",
       "      <td>23</td>\n",
       "    </tr>\n",
       "    <tr>\n",
       "      <th>9517198943</th>\n",
       "      <td>9517198943</td>\n",
       "      <td>2010</td>\n",
       "      <td>2</td>\n",
       "      <td>23</td>\n",
       "    </tr>\n",
       "  </tbody>\n",
       "</table>\n",
       "</div>"
      ],
      "text/plain": [
       "                    id  Year  Month  Day\n",
       "id                                      \n",
       "9514097914  9514097914  2010      2   23\n",
       "9514846412  9514846412  2010      2   23\n",
       "9516574359  9516574359  2010      2   23\n",
       "9516952605  9516952605  2010      2   23\n",
       "9517198943  9517198943  2010      2   23"
      ]
     },
     "execution_count": 9,
     "metadata": {},
     "output_type": "execute_result"
    }
   ],
   "source": [
    "data_dates = pd.read_csv('data_created/data_dates.csv', names=['id','Year','Month','Day'])\n",
    "data_dates.index = data_dates.id\n",
    "data_dates.head()"
   ]
  },
  {
   "cell_type": "markdown",
   "metadata": {},
   "source": [
    "# Merge *Location* with *Score*"
   ]
  },
  {
   "cell_type": "code",
   "execution_count": 6,
   "metadata": {
    "ExecuteTime": {
     "end_time": "2017-01-29T09:40:07.377218",
     "start_time": "2017-01-29T09:40:06.768467"
    },
    "collapsed": false
   },
   "outputs": [],
   "source": [
    "sorted1 = data_sentiment.sort_index(axis=1)\n",
    "sorted2 = data_with_locations.sort_index(axis=1)"
   ]
  },
  {
   "cell_type": "code",
   "execution_count": 7,
   "metadata": {
    "ExecuteTime": {
     "end_time": "2017-01-29T09:40:29.592175",
     "start_time": "2017-01-29T09:40:12.654121"
    },
    "collapsed": false
   },
   "outputs": [],
   "source": [
    "data_loca_score_merge = pd.concat([sorted1, sorted2], axis=1)"
   ]
  },
  {
   "cell_type": "code",
   "execution_count": 9,
   "metadata": {
    "ExecuteTime": {
     "end_time": "2017-01-29T09:40:46.275430",
     "start_time": "2017-01-29T09:40:35.457927"
    },
    "collapsed": false
   },
   "outputs": [
    {
     "name": "stdout",
     "output_type": "stream",
     "text": [
      "Score       False\n",
      "Canton      False\n",
      "District    False\n",
      "dtype: bool\n",
      "19250204\n"
     ]
    }
   ],
   "source": [
    "data_location_score = data_loca_score_merge[['Score', 'Canton', 'District']]\n",
    "data_location_score = data_location_score[~data_location_score.Score.isnull()]\n",
    "data_location_score = data_location_score[~data_location_score.Canton.isnull()]\n",
    "\n",
    "print(data_location_score.isnull().any())\n",
    "print(len(data_location_score))"
   ]
  },
  {
   "cell_type": "markdown",
   "metadata": {},
   "source": [
    "# Sentiment score sign\n",
    "\n",
    "The sentiment score we compute before can be any integer. \n",
    "We will reduce it to three possibilities: \n",
    "\n",
    "- -1 if the score is negative\n",
    "- 0 if the score is neutral\n",
    "- 1 if the score is positive"
   ]
  },
  {
   "cell_type": "code",
   "execution_count": 10,
   "metadata": {
    "ExecuteTime": {
     "end_time": "2017-01-29T09:41:00.231541",
     "start_time": "2017-01-29T09:40:55.676369"
    },
    "collapsed": false
   },
   "outputs": [
    {
     "data": {
      "text/html": [
       "<div>\n",
       "<table border=\"1\" class=\"dataframe\">\n",
       "  <thead>\n",
       "    <tr style=\"text-align: right;\">\n",
       "      <th></th>\n",
       "      <th>Score</th>\n",
       "      <th>Canton</th>\n",
       "      <th>District</th>\n",
       "      <th>ScoreBool</th>\n",
       "    </tr>\n",
       "    <tr>\n",
       "      <th>id</th>\n",
       "      <th></th>\n",
       "      <th></th>\n",
       "      <th></th>\n",
       "      <th></th>\n",
       "    </tr>\n",
       "  </thead>\n",
       "  <tbody>\n",
       "    <tr>\n",
       "      <th>666167135626993664</th>\n",
       "      <td>0.0</td>\n",
       "      <td>1503.0</td>\n",
       "      <td>AR</td>\n",
       "      <td>0.0</td>\n",
       "    </tr>\n",
       "    <tr>\n",
       "      <th>675242718109503488</th>\n",
       "      <td>-2.0</td>\n",
       "      <td>2225.0</td>\n",
       "      <td>VD</td>\n",
       "      <td>-1.0</td>\n",
       "    </tr>\n",
       "    <tr>\n",
       "      <th>490107870009389056</th>\n",
       "      <td>1.0</td>\n",
       "      <td>2603.0</td>\n",
       "      <td>JU</td>\n",
       "      <td>1.0</td>\n",
       "    </tr>\n",
       "    <tr>\n",
       "      <th>239269953910489088</th>\n",
       "      <td>0.0</td>\n",
       "      <td>2012.0</td>\n",
       "      <td>TG</td>\n",
       "      <td>0.0</td>\n",
       "    </tr>\n",
       "    <tr>\n",
       "      <th>335066244363472897</th>\n",
       "      <td>4.0</td>\n",
       "      <td>2106.0</td>\n",
       "      <td>TI</td>\n",
       "      <td>1.0</td>\n",
       "    </tr>\n",
       "    <tr>\n",
       "      <th>240410227235774464</th>\n",
       "      <td>-1.0</td>\n",
       "      <td>1200.0</td>\n",
       "      <td>BS</td>\n",
       "      <td>-1.0</td>\n",
       "    </tr>\n",
       "    <tr>\n",
       "      <th>511756976720986113</th>\n",
       "      <td>0.0</td>\n",
       "      <td>2221.0</td>\n",
       "      <td>VD</td>\n",
       "      <td>0.0</td>\n",
       "    </tr>\n",
       "    <tr>\n",
       "      <th>680323523588558849</th>\n",
       "      <td>1.0</td>\n",
       "      <td>2500.0</td>\n",
       "      <td>GE</td>\n",
       "      <td>1.0</td>\n",
       "    </tr>\n",
       "    <tr>\n",
       "      <th>612348415016587264</th>\n",
       "      <td>2.0</td>\n",
       "      <td>2225.0</td>\n",
       "      <td>VD</td>\n",
       "      <td>1.0</td>\n",
       "    </tr>\n",
       "    <tr>\n",
       "      <th>262160532134563840</th>\n",
       "      <td>-3.0</td>\n",
       "      <td>1003.0</td>\n",
       "      <td>FR</td>\n",
       "      <td>-1.0</td>\n",
       "    </tr>\n",
       "  </tbody>\n",
       "</table>\n",
       "</div>"
      ],
      "text/plain": [
       "                    Score  Canton District  ScoreBool\n",
       "id                                                   \n",
       "666167135626993664    0.0  1503.0       AR        0.0\n",
       "675242718109503488   -2.0  2225.0       VD       -1.0\n",
       "490107870009389056    1.0  2603.0       JU        1.0\n",
       "239269953910489088    0.0  2012.0       TG        0.0\n",
       "335066244363472897    4.0  2106.0       TI        1.0\n",
       "240410227235774464   -1.0  1200.0       BS       -1.0\n",
       "511756976720986113    0.0  2221.0       VD        0.0\n",
       "680323523588558849    1.0  2500.0       GE        1.0\n",
       "612348415016587264    2.0  2225.0       VD        1.0\n",
       "262160532134563840   -3.0  1003.0       FR       -1.0"
      ]
     },
     "execution_count": 10,
     "metadata": {},
     "output_type": "execute_result"
    }
   ],
   "source": [
    "data_location_score['ScoreBool'] = np.sign(data_location_score.Score)\n",
    "data_location_score.sample(10)"
   ]
  },
  {
   "cell_type": "markdown",
   "metadata": {},
   "source": [
    "# Merge with *Dates*"
   ]
  },
  {
   "cell_type": "code",
   "execution_count": 10,
   "metadata": {
    "ExecuteTime": {
     "end_time": "2017-01-29T09:57:49.877779",
     "start_time": "2017-01-29T09:57:33.423823"
    },
    "collapsed": false
   },
   "outputs": [],
   "source": [
    "df_all = pd.concat([data_location_score, data_dates], axis=1)"
   ]
  },
  {
   "cell_type": "code",
   "execution_count": 11,
   "metadata": {
    "ExecuteTime": {
     "end_time": "2017-01-29T09:57:49.969783",
     "start_time": "2017-01-29T09:57:49.902228"
    },
    "collapsed": false
   },
   "outputs": [
    {
     "data": {
      "text/html": [
       "<div>\n",
       "<table border=\"1\" class=\"dataframe\">\n",
       "  <thead>\n",
       "    <tr style=\"text-align: right;\">\n",
       "      <th></th>\n",
       "      <th>id</th>\n",
       "      <th>Score</th>\n",
       "      <th>District</th>\n",
       "      <th>Canton</th>\n",
       "      <th>ScoreBool</th>\n",
       "      <th>id</th>\n",
       "      <th>Year</th>\n",
       "      <th>Month</th>\n",
       "      <th>Day</th>\n",
       "    </tr>\n",
       "    <tr>\n",
       "      <th>id</th>\n",
       "      <th></th>\n",
       "      <th></th>\n",
       "      <th></th>\n",
       "      <th></th>\n",
       "      <th></th>\n",
       "      <th></th>\n",
       "      <th></th>\n",
       "      <th></th>\n",
       "      <th></th>\n",
       "    </tr>\n",
       "  </thead>\n",
       "  <tbody>\n",
       "    <tr>\n",
       "      <th>9514097914</th>\n",
       "      <td>9.514098e+09</td>\n",
       "      <td>0.0</td>\n",
       "      <td>246.0</td>\n",
       "      <td>BE</td>\n",
       "      <td>0.0</td>\n",
       "      <td>9.514098e+09</td>\n",
       "      <td>2010.0</td>\n",
       "      <td>2.0</td>\n",
       "      <td>23.0</td>\n",
       "    </tr>\n",
       "    <tr>\n",
       "      <th>9514846412</th>\n",
       "      <td>9.514846e+09</td>\n",
       "      <td>3.0</td>\n",
       "      <td>112.0</td>\n",
       "      <td>ZH</td>\n",
       "      <td>1.0</td>\n",
       "      <td>9.514846e+09</td>\n",
       "      <td>2010.0</td>\n",
       "      <td>2.0</td>\n",
       "      <td>23.0</td>\n",
       "    </tr>\n",
       "    <tr>\n",
       "      <th>9516574359</th>\n",
       "      <td>9.516574e+09</td>\n",
       "      <td>2.0</td>\n",
       "      <td>2500.0</td>\n",
       "      <td>GE</td>\n",
       "      <td>1.0</td>\n",
       "      <td>9.516574e+09</td>\n",
       "      <td>2010.0</td>\n",
       "      <td>2.0</td>\n",
       "      <td>23.0</td>\n",
       "    </tr>\n",
       "    <tr>\n",
       "      <th>9516952605</th>\n",
       "      <td>9.516953e+09</td>\n",
       "      <td>1.0</td>\n",
       "      <td>1726.0</td>\n",
       "      <td>SG</td>\n",
       "      <td>1.0</td>\n",
       "      <td>9.516953e+09</td>\n",
       "      <td>2010.0</td>\n",
       "      <td>2.0</td>\n",
       "      <td>23.0</td>\n",
       "    </tr>\n",
       "    <tr>\n",
       "      <th>9517198943</th>\n",
       "      <td>9.517199e+09</td>\n",
       "      <td>-1.0</td>\n",
       "      <td>2225.0</td>\n",
       "      <td>VD</td>\n",
       "      <td>-1.0</td>\n",
       "      <td>9.517199e+09</td>\n",
       "      <td>2010.0</td>\n",
       "      <td>2.0</td>\n",
       "      <td>23.0</td>\n",
       "    </tr>\n",
       "  </tbody>\n",
       "</table>\n",
       "</div>"
      ],
      "text/plain": [
       "                      id  Score  District Canton  ScoreBool            id  \\\n",
       "id                                                                          \n",
       "9514097914  9.514098e+09    0.0     246.0     BE        0.0  9.514098e+09   \n",
       "9514846412  9.514846e+09    3.0     112.0     ZH        1.0  9.514846e+09   \n",
       "9516574359  9.516574e+09    2.0    2500.0     GE        1.0  9.516574e+09   \n",
       "9516952605  9.516953e+09    1.0    1726.0     SG        1.0  9.516953e+09   \n",
       "9517198943  9.517199e+09   -1.0    2225.0     VD       -1.0  9.517199e+09   \n",
       "\n",
       "              Year  Month   Day  \n",
       "id                               \n",
       "9514097914  2010.0    2.0  23.0  \n",
       "9514846412  2010.0    2.0  23.0  \n",
       "9516574359  2010.0    2.0  23.0  \n",
       "9516952605  2010.0    2.0  23.0  \n",
       "9517198943  2010.0    2.0  23.0  "
      ]
     },
     "execution_count": 11,
     "metadata": {},
     "output_type": "execute_result"
    }
   ],
   "source": [
    "df_all.head()"
   ]
  },
  {
   "cell_type": "markdown",
   "metadata": {},
   "source": [
    "# Data for Viz\n",
    "\n",
    "Now that we have the complete dataset, we export it into a csv file and can build our visualization map !"
   ]
  },
  {
   "cell_type": "code",
   "execution_count": 13,
   "metadata": {
    "ExecuteTime": {
     "end_time": "2017-01-29T10:00:13.191495",
     "start_time": "2017-01-29T09:58:20.809073"
    },
    "collapsed": false
   },
   "outputs": [],
   "source": [
    "data_to_export = df_all[['District', 'Canton', 'Year', 'Month', 'Day', 'Score', 'ScoreBool']]\n",
    "name = 'data_created/data_ready_for_viz.csv'\n",
    "data_to_export.to_csv(name, header=False)"
   ]
  }
 ],
 "metadata": {
  "anaconda-cloud": {},
  "kernelspec": {
   "display_name": "Python [conda root]",
   "language": "python",
   "name": "conda-root-py"
  },
  "language_info": {
   "codemirror_mode": {
    "name": "ipython",
    "version": 3
   },
   "file_extension": ".py",
   "mimetype": "text/x-python",
   "name": "python",
   "nbconvert_exporter": "python",
   "pygments_lexer": "ipython3",
   "version": "3.5.2"
  },
  "toc": {
   "colors": {
    "hover_highlight": "#DAA520",
    "running_highlight": "#FF0000",
    "selected_highlight": "#FFD700"
   },
   "moveMenuLeft": true,
   "nav_menu": {
    "height": "12px",
    "width": "252px"
   },
   "navigate_menu": true,
   "number_sections": false,
   "sideBar": true,
   "threshold": "0",
   "toc_cell": false,
   "toc_section_display": "block",
   "toc_window_display": false
  }
 },
 "nbformat": 4,
 "nbformat_minor": 2
}
