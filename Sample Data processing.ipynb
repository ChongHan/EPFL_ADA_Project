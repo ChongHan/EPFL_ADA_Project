{
 "cells": [
  {
   "cell_type": "markdown",
   "metadata": {
    "heading_collapsed": true,
    "toc": "true"
   },
   "source": [
    "# Table of Contents\n",
    " <p><div class=\"lev1 toc-item\"><a href=\"#1.-Data-exploration\" data-toc-modified-id=\"1.-Data-exploration-1\"><span class=\"toc-item-num\">1&nbsp;&nbsp;</span>1. Data exploration</a></div><div class=\"lev2 toc-item\"><a href=\"#Load-in-the-schema-of-the-data.\" data-toc-modified-id=\"Load-in-the-schema-of-the-data.-11\"><span class=\"toc-item-num\">1.1&nbsp;&nbsp;</span>Load in the schema of the data.</a></div><div class=\"lev2 toc-item\"><a href=\"#Import-sample-of-the-data\" data-toc-modified-id=\"Import-sample-of-the-data-12\"><span class=\"toc-item-num\">1.2&nbsp;&nbsp;</span>Import sample of the data</a></div><div class=\"lev2 toc-item\"><a href=\"#Original-Data-stats\" data-toc-modified-id=\"Original-Data-stats-13\"><span class=\"toc-item-num\">1.3&nbsp;&nbsp;</span>Original Data stats</a></div><div class=\"lev3 toc-item\"><a href=\"#Total-Number-of-Tweets\" data-toc-modified-id=\"Total-Number-of-Tweets-131\"><span class=\"toc-item-num\">1.3.1&nbsp;&nbsp;</span>Total Number of Tweets</a></div><div class=\"lev3 toc-item\"><a href=\"#Column-formats\" data-toc-modified-id=\"Column-formats-132\"><span class=\"toc-item-num\">1.3.2&nbsp;&nbsp;</span>Column formats</a></div><div class=\"lev3 toc-item\"><a href=\"#Column-Descriptions\" data-toc-modified-id=\"Column-Descriptions-133\"><span class=\"toc-item-num\">1.3.3&nbsp;&nbsp;</span>Column Descriptions</a></div><div class=\"lev2 toc-item\"><a href=\"#Data-Preprocessing\" data-toc-modified-id=\"Data-Preprocessing-14\"><span class=\"toc-item-num\">1.4&nbsp;&nbsp;</span>Data Preprocessing</a></div><div class=\"lev3 toc-item\"><a href=\"#Remove-unnecessary-columns\" data-toc-modified-id=\"Remove-unnecessary-columns-141\"><span class=\"toc-item-num\">1.4.1&nbsp;&nbsp;</span>Remove unnecessary columns</a></div><div class=\"lev3 toc-item\"><a href=\"#NaN-Cells\" data-toc-modified-id=\"NaN-Cells-142\"><span class=\"toc-item-num\">1.4.2&nbsp;&nbsp;</span>NaN Cells</a></div><div class=\"lev3 toc-item\"><a href=\"#Convert-'createdAt'-to-datetime-type\" data-toc-modified-id=\"Convert-'createdAt'-to-datetime-type-143\"><span class=\"toc-item-num\">1.4.3&nbsp;&nbsp;</span>Convert 'createdAt' to datetime type</a></div><div class=\"lev4 toc-item\"><a href=\"#Observation\" data-toc-modified-id=\"Observation-1431\"><span class=\"toc-item-num\">1.4.3.1&nbsp;&nbsp;</span><em>Observation</em></a></div><div class=\"lev3 toc-item\"><a href=\"#Remove-and-Replace-Urls/UserName/Hashtags-from-tweets\" data-toc-modified-id=\"Remove-and-Replace-Urls/UserName/Hashtags-from-tweets-144\"><span class=\"toc-item-num\">1.4.4&nbsp;&nbsp;</span>Remove and Replace Urls/UserName/Hashtags from tweets</a></div><div class=\"lev4 toc-item\"><a href=\"#Observation\" data-toc-modified-id=\"Observation-1441\"><span class=\"toc-item-num\">1.4.4.1&nbsp;&nbsp;</span><em>Observation</em></a></div><div class=\"lev2 toc-item\"><a href=\"#Data-Stats\" data-toc-modified-id=\"Data-Stats-15\"><span class=\"toc-item-num\">1.5&nbsp;&nbsp;</span>Data Stats</a></div><div class=\"lev3 toc-item\"><a href=\"#Language-Usage\" data-toc-modified-id=\"Language-Usage-151\"><span class=\"toc-item-num\">1.5.1&nbsp;&nbsp;</span>Language Usage</a></div><div class=\"lev4 toc-item\"><a href=\"#Observation\" data-toc-modified-id=\"Observation-1511\"><span class=\"toc-item-num\">1.5.1.1&nbsp;&nbsp;</span><em>Observation</em></a></div><div class=\"lev3 toc-item\"><a href=\"#Number-of-Tweets-per-User\" data-toc-modified-id=\"Number-of-Tweets-per-User-152\"><span class=\"toc-item-num\">1.5.2&nbsp;&nbsp;</span>Number of Tweets per User</a></div><div class=\"lev4 toc-item\"><a href=\"#Observation\" data-toc-modified-id=\"Observation-1521\"><span class=\"toc-item-num\">1.5.2.1&nbsp;&nbsp;</span><em>Observation</em></a></div><div class=\"lev3 toc-item\"><a href=\"#Number-of-Users-in-Sample-Data\" data-toc-modified-id=\"Number-of-Users-in-Sample-Data-153\"><span class=\"toc-item-num\">1.5.3&nbsp;&nbsp;</span>Number of Users in Sample Data</a></div><div class=\"lev3 toc-item\"><a href=\"#Percentage-with-hashtags\" data-toc-modified-id=\"Percentage-with-hashtags-154\"><span class=\"toc-item-num\">1.5.4&nbsp;&nbsp;</span>Percentage with hashtags</a></div><div class=\"lev4 toc-item\"><a href=\"#Number-of-tweets-per-hashtag\" data-toc-modified-id=\"Number-of-tweets-per-hashtag-1541\"><span class=\"toc-item-num\">1.5.4.1&nbsp;&nbsp;</span>Number of tweets per hashtag</a></div><div class=\"lev4 toc-item\"><a href=\"#Usage-of-shared-/-common-tags\" data-toc-modified-id=\"Usage-of-shared-/-common-tags-1542\"><span class=\"toc-item-num\">1.5.4.2&nbsp;&nbsp;</span>Usage of shared / common tags</a></div><div class=\"lev4 toc-item\"><a href=\"#Observation\" data-toc-modified-id=\"Observation-1543\"><span class=\"toc-item-num\">1.5.4.3&nbsp;&nbsp;</span><em>Observation</em></a></div><div class=\"lev3 toc-item\"><a href=\"#0.3.1-Percentage-with-geolocation\" data-toc-modified-id=\"0.3.1-Percentage-with-geolocation-155\"><span class=\"toc-item-num\">1.5.5&nbsp;&nbsp;</span>0.3.1 Percentage with geolocation</a></div><div class=\"lev2 toc-item\"><a href=\"#Emoji\" data-toc-modified-id=\"Emoji-16\"><span class=\"toc-item-num\">1.6&nbsp;&nbsp;</span>Emoji</a></div>"
   ]
  },
  {
   "cell_type": "markdown",
   "metadata": {
    "hidden": true
   },
   "source": [
    "> **Purpose of this notebook: **\n",
    "\n",
    "> Before diving to the huge datasets provided by Swisscom, need to understand it and understand what we want to do with it. So we will use this notebook with a small sample of the datasets, to simulate the steps of our project. The final goal is to create a python scipt, so we just need to launch it on the cluster to obtain the desired results."
   ]
  },
  {
   "cell_type": "markdown",
   "metadata": {
    "hidden": true
   },
   "source": [
    "**Import Packages**"
   ]
  },
  {
   "cell_type": "code",
   "execution_count": 245,
   "metadata": {
    "collapsed": false,
    "hidden": true
   },
   "outputs": [],
   "source": [
    "import pandas as pd\n",
    "import numpy as np\n",
    "import csv\n",
    "\n",
    "# plots\n",
    "from matplotlib.pyplot import *\n",
    "matplotlib.style.use('ggplot')\n",
    "\n",
    "from pylab import *\n",
    "\n",
    "from pandas import Series\n",
    "import re\n",
    "\n",
    "# language detection\n",
    "from langdetect import detect"
   ]
  },
  {
   "cell_type": "code",
   "execution_count": 246,
   "metadata": {
    "collapsed": false,
    "hidden": true
   },
   "outputs": [
    {
     "name": "stdout",
     "output_type": "stream",
     "text": [
      "Pandas version 0.19.2\n"
     ]
    }
   ],
   "source": [
    "print(\"Pandas version {}\".format(pd.__version__))"
   ]
  },
  {
   "cell_type": "code",
   "execution_count": 247,
   "metadata": {
    "collapsed": true,
    "hidden": true
   },
   "outputs": [],
   "source": [
    "#increase the max column width displayed from the default 50\n",
    "pd.set_option('display.max_colwidth', 200)"
   ]
  },
  {
   "cell_type": "markdown",
   "metadata": {},
   "source": [
    "# 1. Data exploration"
   ]
  },
  {
   "cell_type": "markdown",
   "metadata": {},
   "source": [
    "***\n",
    "## Load in the schema of the data.\n",
    "\n",
    "\n",
    "Note that *schema.txt* file given in the epfl cluster was manually modified in order to import it easily with pandas."
   ]
  },
  {
   "cell_type": "code",
   "execution_count": 303,
   "metadata": {
    "collapsed": false
   },
   "outputs": [
    {
     "name": "stdout",
     "output_type": "stream",
     "text": [
      "Nbr features: 20\n"
     ]
    },
    {
     "data": {
      "text/plain": [
       "['id',\n",
       " 'userId',\n",
       " 'createdAt',\n",
       " 'text',\n",
       " 'longitude',\n",
       " 'latitude',\n",
       " 'placeId',\n",
       " 'inReplyTo',\n",
       " 'source',\n",
       " 'truncated',\n",
       " 'placeLatitude',\n",
       " 'placeLongitude',\n",
       " 'sourceName',\n",
       " 'sourceUrl',\n",
       " 'userName',\n",
       " 'screenName',\n",
       " 'followersCount',\n",
       " 'friendsCount',\n",
       " 'statusesCount',\n",
       " 'userLocation']"
      ]
     },
     "execution_count": 303,
     "metadata": {},
     "output_type": "execute_result"
    }
   ],
   "source": [
    "# read schema \n",
    "schema_rawfile = pd.read_csv(\"twitter-swisscom/schema_home.txt\", header=None, sep='\\s+')\n",
    "# extract schema columns\n",
    "twitter_data_columns = schema_rawfile[1].values\n",
    "\n",
    "print(\"Nbr features:\",len(twitter_data_columns))\n",
    "list(twitter_data_columns)"
   ]
  },
  {
   "cell_type": "markdown",
   "metadata": {},
   "source": [
    "***\n",
    "## Import sample of the data\n",
    "\n",
    "\n",
    "We will not work directly with the entire datasets. Instead, we prepare our code and function here, with a small sample of the data. Then we create a script to be executed in the EPFL cluster.\n"
   ]
  },
  {
   "cell_type": "markdown",
   "metadata": {},
   "source": [
    "**First step:** \"Clean\" the tsv file. The files we are given are in a *.tsv* format: there is one tweet per line and each features within a tweet are separated by a tab. Unfortunately, some tweets text contain break line (*\\n*). If we try to import them like that, python will take those break line *\\n* as a new line, therefore as a new tweet. \n",
    "\n",
    "But the break line inside the tweets are preceed by a backslash. Therefore, we run a bash command to replace all combination of *\\ + \\n* by a simple white space.\n",
    "\n",
    ">     sed -e :a -e '/\\\\$/N; s/\\\\\\n/ /; ta' twitter-swisscom/sample.tsv  > data_clean/sample.tsv"
   ]
  },
  {
   "cell_type": "markdown",
   "metadata": {},
   "source": [
    "**Second step**: The file *data_clean/sample.tsv* has the following attributes:\n",
    "\n",
    "    *application/octet-stream; charset=binary*\n",
    "\n",
    "Therefore, we cannot load it *as is* into a pandas Dataframe. We will convert it to a simple *text/plain* with encoding *utf-8*, that pandas can perfectly handle.\n",
    "\n",
    ">     cat data_clean/sample.tsv | tr -d '\\0' > data_clean/sample_formatted.tsv"
   ]
  },
  {
   "cell_type": "markdown",
   "metadata": {},
   "source": [
    "**Third step**: Now we can import the data to a pandas dataframe."
   ]
  },
  {
   "cell_type": "code",
   "execution_count": 249,
   "metadata": {
    "collapsed": false
   },
   "outputs": [
    {
     "data": {
      "text/html": [
       "<div>\n",
       "<table border=\"1\" class=\"dataframe\">\n",
       "  <thead>\n",
       "    <tr style=\"text-align: right;\">\n",
       "      <th></th>\n",
       "      <th>id</th>\n",
       "      <th>userId</th>\n",
       "      <th>createdAt</th>\n",
       "      <th>text</th>\n",
       "      <th>longitude</th>\n",
       "      <th>latitude</th>\n",
       "      <th>placeId</th>\n",
       "      <th>inReplyTo</th>\n",
       "      <th>source</th>\n",
       "      <th>truncated</th>\n",
       "      <th>placeLatitude</th>\n",
       "      <th>placeLongitude</th>\n",
       "      <th>sourceName</th>\n",
       "      <th>sourceUrl</th>\n",
       "      <th>userName</th>\n",
       "      <th>screenName</th>\n",
       "      <th>followersCount</th>\n",
       "      <th>friendsCount</th>\n",
       "      <th>statusesCount</th>\n",
       "      <th>userLocation</th>\n",
       "    </tr>\n",
       "  </thead>\n",
       "  <tbody>\n",
       "    <tr>\n",
       "      <th>0</th>\n",
       "      <td>776522983837954049</td>\n",
       "      <td>735449229028675584</td>\n",
       "      <td>2016-09-15 20:48:01</td>\n",
       "      <td>se lo dici tu... https://t.co/x7Qm1VHBKL</td>\n",
       "      <td>\\N</td>\n",
       "      <td>\\N</td>\n",
       "      <td>51c0e6b24c64e54e</td>\n",
       "      <td>\\N</td>\n",
       "      <td>1</td>\n",
       "      <td>NaN</td>\n",
       "      <td>46.0027</td>\n",
       "      <td>8.96044</td>\n",
       "      <td>Twitter for iPhone</td>\n",
       "      <td>http://twitter.com/#!/download/iphone</td>\n",
       "      <td>plvtone filiae.</td>\n",
       "      <td>hazel_chb</td>\n",
       "      <td>146</td>\n",
       "      <td>110</td>\n",
       "      <td>28621</td>\n",
       "      <td>Earleen.</td>\n",
       "    </tr>\n",
       "    <tr>\n",
       "      <th>1</th>\n",
       "      <td>776523000636203010</td>\n",
       "      <td>2741685639</td>\n",
       "      <td>2016-09-15 20:48:05</td>\n",
       "      <td>https://t.co/noYrTnqmg9</td>\n",
       "      <td>\\N</td>\n",
       "      <td>\\N</td>\n",
       "      <td>4e7c21fd2af027c6</td>\n",
       "      <td>\\N</td>\n",
       "      <td>1</td>\n",
       "      <td>NaN</td>\n",
       "      <td>46.8131</td>\n",
       "      <td>8.22414</td>\n",
       "      <td>Twitter for iPhone</td>\n",
       "      <td>http://twitter.com/#!/download/iphone</td>\n",
       "      <td>samara</td>\n",
       "      <td>letisieg</td>\n",
       "      <td>755</td>\n",
       "      <td>2037</td>\n",
       "      <td>3771</td>\n",
       "      <td>Suisse</td>\n",
       "    </tr>\n",
       "    <tr>\n",
       "      <th>2</th>\n",
       "      <td>776523045200691200</td>\n",
       "      <td>435239151</td>\n",
       "      <td>2016-09-15 20:48:15</td>\n",
       "      <td>@BesacTof @Leonid_CCCP Tu dois t'engager en signant précisément:\"Je partage les valeurs républicaines de la droite et du centre 1/2...</td>\n",
       "      <td>\\N</td>\n",
       "      <td>\\N</td>\n",
       "      <td>12eb9b254faf37a3</td>\n",
       "      <td>776522113859608576</td>\n",
       "      <td>5</td>\n",
       "      <td>NaN</td>\n",
       "      <td>47.2010</td>\n",
       "      <td>5.94082</td>\n",
       "      <td>Twitter for Android</td>\n",
       "      <td>http://twitter.com/download/android</td>\n",
       "      <td>lebrübrü❤</td>\n",
       "      <td>lebrubru</td>\n",
       "      <td>811</td>\n",
       "      <td>595</td>\n",
       "      <td>30191</td>\n",
       "      <td>Fontain</td>\n",
       "    </tr>\n",
       "    <tr>\n",
       "      <th>3</th>\n",
       "      <td>776523058404290560</td>\n",
       "      <td>503244217</td>\n",
       "      <td>2016-09-15 20:48:18</td>\n",
       "      <td>@Mno0or_Abyat اشوف مظاهرات على قانون العمل الجديد انا طلعت الصباح من هناك مافيه شي بس اشوف الأخبار قبل شوي المشكلة راجع بعد يومين !!</td>\n",
       "      <td>\\N</td>\n",
       "      <td>\\N</td>\n",
       "      <td>30bcd7f767b4041e</td>\n",
       "      <td>776521597515624448</td>\n",
       "      <td>1</td>\n",
       "      <td>NaN</td>\n",
       "      <td>45.8011</td>\n",
       "      <td>6.16552</td>\n",
       "      <td>Twitter for iPhone</td>\n",
       "      <td>http://twitter.com/#!/download/iphone</td>\n",
       "      <td>عبدالله القنيص</td>\n",
       "      <td>bingnais</td>\n",
       "      <td>28433</td>\n",
       "      <td>417</td>\n",
       "      <td>12262</td>\n",
       "      <td>Shargeyah</td>\n",
       "    </tr>\n",
       "    <tr>\n",
       "      <th>4</th>\n",
       "      <td>776523058504925185</td>\n",
       "      <td>452805259</td>\n",
       "      <td>2016-09-15 20:48:18</td>\n",
       "      <td>Greek night #geneve (@ Emilios in Genève) https://t.co/sEplW0Mcyz</td>\n",
       "      <td>6.14414</td>\n",
       "      <td>46.1966</td>\n",
       "      <td>c3a6437e1b1a726d</td>\n",
       "      <td>\\N</td>\n",
       "      <td>3</td>\n",
       "      <td>NaN</td>\n",
       "      <td>46.2048</td>\n",
       "      <td>6.14319</td>\n",
       "      <td>foursquare</td>\n",
       "      <td>http://foursquare.com</td>\n",
       "      <td>Alkan Şenli</td>\n",
       "      <td>Alkanoli</td>\n",
       "      <td>204</td>\n",
       "      <td>172</td>\n",
       "      <td>3390</td>\n",
       "      <td>İstanbul/Burgazada</td>\n",
       "    </tr>\n",
       "  </tbody>\n",
       "</table>\n",
       "</div>"
      ],
      "text/plain": [
       "                   id              userId            createdAt  \\\n",
       "0  776522983837954049  735449229028675584  2016-09-15 20:48:01   \n",
       "1  776523000636203010          2741685639  2016-09-15 20:48:05   \n",
       "2  776523045200691200           435239151  2016-09-15 20:48:15   \n",
       "3  776523058404290560           503244217  2016-09-15 20:48:18   \n",
       "4  776523058504925185           452805259  2016-09-15 20:48:18   \n",
       "\n",
       "                                                                                                                                     text  \\\n",
       "0                                                                                                se lo dici tu... https://t.co/x7Qm1VHBKL   \n",
       "1                                                                                                                 https://t.co/noYrTnqmg9   \n",
       "2  @BesacTof @Leonid_CCCP Tu dois t'engager en signant précisément:\"Je partage les valeurs républicaines de la droite et du centre 1/2...   \n",
       "3    @Mno0or_Abyat اشوف مظاهرات على قانون العمل الجديد انا طلعت الصباح من هناك مافيه شي بس اشوف الأخبار قبل شوي المشكلة راجع بعد يومين !!   \n",
       "4                                                                       Greek night #geneve (@ Emilios in Genève) https://t.co/sEplW0Mcyz   \n",
       "\n",
       "  longitude latitude           placeId           inReplyTo  source  truncated  \\\n",
       "0        \\N       \\N  51c0e6b24c64e54e                  \\N       1        NaN   \n",
       "1        \\N       \\N  4e7c21fd2af027c6                  \\N       1        NaN   \n",
       "2        \\N       \\N  12eb9b254faf37a3  776522113859608576       5        NaN   \n",
       "3        \\N       \\N  30bcd7f767b4041e  776521597515624448       1        NaN   \n",
       "4   6.14414  46.1966  c3a6437e1b1a726d                  \\N       3        NaN   \n",
       "\n",
       "   placeLatitude  placeLongitude           sourceName  \\\n",
       "0        46.0027         8.96044   Twitter for iPhone   \n",
       "1        46.8131         8.22414   Twitter for iPhone   \n",
       "2        47.2010         5.94082  Twitter for Android   \n",
       "3        45.8011         6.16552   Twitter for iPhone   \n",
       "4        46.2048         6.14319           foursquare   \n",
       "\n",
       "                               sourceUrl         userName screenName  \\\n",
       "0  http://twitter.com/#!/download/iphone  plvtone filiae.  hazel_chb   \n",
       "1  http://twitter.com/#!/download/iphone           samara   letisieg   \n",
       "2    http://twitter.com/download/android        lebrübrü❤   lebrubru   \n",
       "3  http://twitter.com/#!/download/iphone   عبدالله القنيص   bingnais   \n",
       "4                  http://foursquare.com      Alkan Şenli   Alkanoli   \n",
       "\n",
       "   followersCount  friendsCount  statusesCount        userLocation  \n",
       "0             146           110          28621           Earleen.   \n",
       "1             755          2037           3771              Suisse  \n",
       "2             811           595          30191             Fontain  \n",
       "3           28433           417          12262           Shargeyah  \n",
       "4             204           172           3390  İstanbul/Burgazada  "
      ]
     },
     "execution_count": 249,
     "metadata": {},
     "output_type": "execute_result"
    }
   ],
   "source": [
    "sample_data = pd.read_table(r\"data_clean/sample_formatted.tsv\",sep='\\t', quoting=csv.QUOTE_NONE, header=None, names=twitter_data_columns)\n",
    "sample_data.head()"
   ]
  },
  {
   "cell_type": "markdown",
   "metadata": {},
   "source": [
    "***\n",
    "## Original Data stats\n",
    "\n",
    "\n",
    "### Total Number of Tweets\n",
    "\n",
    "We have **_8790_** entries in our dataframe and each row contains **_20_** columns."
   ]
  },
  {
   "cell_type": "code",
   "execution_count": 250,
   "metadata": {
    "collapsed": false
   },
   "outputs": [
    {
     "name": "stdout",
     "output_type": "stream",
     "text": [
      "8790\n",
      "20\n"
     ]
    }
   ],
   "source": [
    "TOTAL_ENTRIES = len(sample_data)\n",
    "TOTAL_COLUMNS = len(sample_data.columns)\n",
    "\n",
    "print(TOTAL_ENTRIES)\n",
    "print(TOTAL_COLUMNS)"
   ]
  },
  {
   "cell_type": "markdown",
   "metadata": {},
   "source": [
    "### Column formats"
   ]
  },
  {
   "cell_type": "code",
   "execution_count": 251,
   "metadata": {
    "collapsed": false
   },
   "outputs": [
    {
     "data": {
      "text/plain": [
       "id                  int64\n",
       "userId              int64\n",
       "createdAt          object\n",
       "text               object\n",
       "longitude          object\n",
       "latitude           object\n",
       "placeId            object\n",
       "inReplyTo          object\n",
       "source              int64\n",
       "truncated         float64\n",
       "placeLatitude     float64\n",
       "placeLongitude    float64\n",
       "sourceName         object\n",
       "sourceUrl          object\n",
       "userName           object\n",
       "screenName         object\n",
       "followersCount      int64\n",
       "friendsCount        int64\n",
       "statusesCount       int64\n",
       "userLocation       object\n",
       "dtype: object"
      ]
     },
     "execution_count": 251,
     "metadata": {},
     "output_type": "execute_result"
    }
   ],
   "source": [
    "sample_data.dtypes"
   ]
  },
  {
   "cell_type": "markdown",
   "metadata": {},
   "source": [
    "### Column Descriptions\n",
    "We've gathered more detailed dscription of each attribute from the [Twtter API](https://dev.twitter.com/overview/api/users)"
   ]
  },
  {
   "cell_type": "code",
   "execution_count": 252,
   "metadata": {
    "collapsed": false
   },
   "outputs": [
    {
     "data": {
      "text/html": [
       "<div>\n",
       "<table border=\"1\" class=\"dataframe\">\n",
       "  <thead>\n",
       "    <tr style=\"text-align: right;\">\n",
       "      <th></th>\n",
       "      <th>Attribute</th>\n",
       "      <th>Description</th>\n",
       "    </tr>\n",
       "  </thead>\n",
       "  <tbody>\n",
       "    <tr>\n",
       "      <th>1</th>\n",
       "      <td>id</td>\n",
       "      <td>The integer representation of the unique identifier for this Tweet.</td>\n",
       "    </tr>\n",
       "    <tr>\n",
       "      <th>2</th>\n",
       "      <td>userId</td>\n",
       "      <td>The integer representation of the unique identifier for this User.</td>\n",
       "    </tr>\n",
       "    <tr>\n",
       "      <th>3</th>\n",
       "      <td>createdAt</td>\n",
       "      <td>UTC time when this Tweet was created. Example: \"created_at\":\"Wed Aug 27 13:08:45 +0000 2008\"</td>\n",
       "    </tr>\n",
       "    <tr>\n",
       "      <th>4</th>\n",
       "      <td>text</td>\n",
       "      <td>The actual UTF-8 text of the status update.</td>\n",
       "    </tr>\n",
       "    <tr>\n",
       "      <th>5</th>\n",
       "      <td>longitude</td>\n",
       "      <td>Nullable Represents the geographic location of this Tweet as reported by the user or client application.</td>\n",
       "    </tr>\n",
       "    <tr>\n",
       "      <th>6</th>\n",
       "      <td>latitude</td>\n",
       "      <td>Nullable Represents the geographic location of this Tweet as reported by the user or client application.</td>\n",
       "    </tr>\n",
       "    <tr>\n",
       "      <th>7</th>\n",
       "      <td>placeId</td>\n",
       "      <td>ID representing this place. Places are specific, named locations with corresponding geo coordinates. They can be attached to Tweets by specifying a place_id when tweeting. Tweets associated with p...</td>\n",
       "    </tr>\n",
       "    <tr>\n",
       "      <th>8</th>\n",
       "      <td>inReplyTo</td>\n",
       "      <td>Nullable If the represented Tweet is a reply, this field will contain the integer representation of the original Tweet’s ID.</td>\n",
       "    </tr>\n",
       "    <tr>\n",
       "      <th>9</th>\n",
       "      <td>source</td>\n",
       "      <td>None</td>\n",
       "    </tr>\n",
       "    <tr>\n",
       "      <th>10</th>\n",
       "      <td>truncated</td>\n",
       "      <td>Indicates whether the value of the text parameter was truncated, for example, as a result of a retweet exceeding the 140 character Tweet length. Truncated text will end in ellipsis, like this ... ...</td>\n",
       "    </tr>\n",
       "    <tr>\n",
       "      <th>11</th>\n",
       "      <td>placeLatitude</td>\n",
       "      <td>see placeID</td>\n",
       "    </tr>\n",
       "    <tr>\n",
       "      <th>12</th>\n",
       "      <td>placeLongitude</td>\n",
       "      <td>see placeID</td>\n",
       "    </tr>\n",
       "    <tr>\n",
       "      <th>13</th>\n",
       "      <td>sourceName</td>\n",
       "      <td>Name of the utility used to post the Tweet</td>\n",
       "    </tr>\n",
       "    <tr>\n",
       "      <th>14</th>\n",
       "      <td>sourceUrl</td>\n",
       "      <td>Url of the utility used to post the Tweet</td>\n",
       "    </tr>\n",
       "    <tr>\n",
       "      <th>15</th>\n",
       "      <td>userName</td>\n",
       "      <td>The name of the user, as they’ve defined it. Not necessarily a person’s name. Typically capped at 20 characters, but subject to change.</td>\n",
       "    </tr>\n",
       "    <tr>\n",
       "      <th>16</th>\n",
       "      <td>screenName</td>\n",
       "      <td>The screen name, handle, or alias that this user identifies themselves with. screen_names are unique but subject to change. Typically a maximum of 15 characters long, but some historical accounts ...</td>\n",
       "    </tr>\n",
       "    <tr>\n",
       "      <th>17</th>\n",
       "      <td>followersCount</td>\n",
       "      <td>The number of followers this account currently has. Under certain conditions of duress, this field will temporarily indicate “0.”</td>\n",
       "    </tr>\n",
       "    <tr>\n",
       "      <th>18</th>\n",
       "      <td>friendsCount</td>\n",
       "      <td>The number of users this account is following (AKA their “followings”). Under certain conditions of duress, this field will temporarily indicate “0.”</td>\n",
       "    </tr>\n",
       "    <tr>\n",
       "      <th>19</th>\n",
       "      <td>statusesCount</td>\n",
       "      <td>The number of tweets (including retweets) issued by the user.</td>\n",
       "    </tr>\n",
       "    <tr>\n",
       "      <th>20</th>\n",
       "      <td>userLocation</td>\n",
       "      <td>Nullable . The user-defined location for this account’s profile. Not necessarily a location nor parseable. This field will occasionally be fuzzily interpreted by the Search service.</td>\n",
       "    </tr>\n",
       "  </tbody>\n",
       "</table>\n",
       "</div>"
      ],
      "text/plain": [
       "         Attribute  \\\n",
       "1               id   \n",
       "2           userId   \n",
       "3        createdAt   \n",
       "4             text   \n",
       "5        longitude   \n",
       "6         latitude   \n",
       "7          placeId   \n",
       "8        inReplyTo   \n",
       "9           source   \n",
       "10       truncated   \n",
       "11   placeLatitude   \n",
       "12  placeLongitude   \n",
       "13      sourceName   \n",
       "14       sourceUrl   \n",
       "15        userName   \n",
       "16      screenName   \n",
       "17  followersCount   \n",
       "18    friendsCount   \n",
       "19   statusesCount   \n",
       "20    userLocation   \n",
       "\n",
       "                                                                                                                                                                                                Description  \n",
       "1                                                                                                                                       The integer representation of the unique identifier for this Tweet.  \n",
       "2                                                                                                                                        The integer representation of the unique identifier for this User.  \n",
       "3                                                                                                              UTC time when this Tweet was created. Example: \"created_at\":\"Wed Aug 27 13:08:45 +0000 2008\"  \n",
       "4                                                                                                                                                               The actual UTF-8 text of the status update.  \n",
       "5                                                                                                  Nullable Represents the geographic location of this Tweet as reported by the user or client application.  \n",
       "6                                                                                                  Nullable Represents the geographic location of this Tweet as reported by the user or client application.  \n",
       "7   ID representing this place. Places are specific, named locations with corresponding geo coordinates. They can be attached to Tweets by specifying a place_id when tweeting. Tweets associated with p...  \n",
       "8                                                                              Nullable If the represented Tweet is a reply, this field will contain the integer representation of the original Tweet’s ID.  \n",
       "9                                                                                                                                                                                                      None  \n",
       "10  Indicates whether the value of the text parameter was truncated, for example, as a result of a retweet exceeding the 140 character Tweet length. Truncated text will end in ellipsis, like this ... ...  \n",
       "11                                                                                                                                                                                              see placeID  \n",
       "12                                                                                                                                                                                              see placeID  \n",
       "13                                                                                                                                                               Name of the utility used to post the Tweet  \n",
       "14                                                                                                                                                                Url of the utility used to post the Tweet  \n",
       "15                                                                  The name of the user, as they’ve defined it. Not necessarily a person’s name. Typically capped at 20 characters, but subject to change.  \n",
       "16  The screen name, handle, or alias that this user identifies themselves with. screen_names are unique but subject to change. Typically a maximum of 15 characters long, but some historical accounts ...  \n",
       "17                                                                        The number of followers this account currently has. Under certain conditions of duress, this field will temporarily indicate “0.”  \n",
       "18                                                    The number of users this account is following (AKA their “followings”). Under certain conditions of duress, this field will temporarily indicate “0.”  \n",
       "19                                                                                                                                            The number of tweets (including retweets) issued by the user.  \n",
       "20                    Nullable . The user-defined location for this account’s profile. Not necessarily a location nor parseable. This field will occasionally be fuzzily interpreted by the Search service.  "
      ]
     },
     "execution_count": 252,
     "metadata": {},
     "output_type": "execute_result"
    }
   ],
   "source": [
    "data_description = pd.read_csv(\"twitter-swisscom/schema_description.txt\", header=None, names=['Attribute', 'Description'], sep='\\s\\s+', engine='python', index_col=0)\n",
    "data_description"
   ]
  },
  {
   "cell_type": "markdown",
   "metadata": {},
   "source": [
    "***\n",
    "## Data Preprocessing\n",
    "\n",
    "Before analysing the sentiment of tweets and extract it's location information, we have to pre-process to prepare our data."
   ]
  },
  {
   "cell_type": "markdown",
   "metadata": {},
   "source": [
    "### Remove unnecessary columns\n"
   ]
  },
  {
   "cell_type": "code",
   "execution_count": 253,
   "metadata": {
    "collapsed": false
   },
   "outputs": [],
   "source": [
    "sample_data = sample_data.drop('source', 1)\n",
    "sample_data = sample_data.drop('truncated', 1)\n",
    "sample_data = sample_data.drop('sourceName', 1)\n",
    "sample_data = sample_data.drop('sourceUrl', 1)\n",
    "sample_data = sample_data.drop('followersCount', 1)\n",
    "sample_data = sample_data.drop('friendsCount', 1)\n",
    "sample_data = sample_data.drop('statusesCount', 1)\n",
    "sample_data = sample_data.drop('userName', 1)"
   ]
  },
  {
   "cell_type": "code",
   "execution_count": 254,
   "metadata": {
    "collapsed": false
   },
   "outputs": [
    {
     "data": {
      "text/plain": [
       "['id',\n",
       " 'userId',\n",
       " 'createdAt',\n",
       " 'text',\n",
       " 'longitude',\n",
       " 'latitude',\n",
       " 'placeId',\n",
       " 'inReplyTo',\n",
       " 'placeLatitude',\n",
       " 'placeLongitude',\n",
       " 'screenName',\n",
       " 'userLocation']"
      ]
     },
     "execution_count": 254,
     "metadata": {},
     "output_type": "execute_result"
    }
   ],
   "source": [
    "list(sample_data.columns)"
   ]
  },
  {
   "cell_type": "markdown",
   "metadata": {},
   "source": [
    "### NaN Cells\n",
    "\n",
    "The **text** column (tweet content) contains NaN Value. We have no choice but to remove them because without the content we won't be able to proceed and perform sentiment analysis. As for **truncated** and **userName**, we don't worry much as truncated is just a flag indicating whether the content is above 140 characters and userId is better and more unique than userName.\n",
    "\n",
    "***Note: ***missing data are represented as **\"\\N\"** in the dataframe."
   ]
  },
  {
   "cell_type": "code",
   "execution_count": 255,
   "metadata": {
    "collapsed": false
   },
   "outputs": [
    {
     "data": {
      "text/plain": [
       "id                False\n",
       "userId            False\n",
       "createdAt         False\n",
       "text               True\n",
       "longitude         False\n",
       "latitude          False\n",
       "placeId           False\n",
       "inReplyTo         False\n",
       "placeLatitude     False\n",
       "placeLongitude    False\n",
       "screenName        False\n",
       "userLocation      False\n",
       "dtype: bool"
      ]
     },
     "execution_count": 255,
     "metadata": {},
     "output_type": "execute_result"
    }
   ],
   "source": [
    "sample_data.isnull().any()"
   ]
  },
  {
   "cell_type": "code",
   "execution_count": 256,
   "metadata": {
    "collapsed": false
   },
   "outputs": [],
   "source": [
    "# Create a true/false list then map to the original dataframe\n",
    "NaN_text = sample_data.text.isnull()\n",
    "sample_data = sample_data[~ NaN_text]"
   ]
  },
  {
   "cell_type": "code",
   "execution_count": 257,
   "metadata": {
    "collapsed": false
   },
   "outputs": [
    {
     "name": "stdout",
     "output_type": "stream",
     "text": [
      "Number of entries missing content -  93\n",
      "Entries in sample_data dataframe -  8697\n",
      "Percentage of missing data 0.010580204778156996\n"
     ]
    }
   ],
   "source": [
    "print(\"Number of entries missing content - \", NaN_text.sum())\n",
    "print(\"Entries in sample_data dataframe - \", sample_data.text.count())\n",
    "print(\"Percentage of missing data\", 93/8790)"
   ]
  },
  {
   "cell_type": "markdown",
   "metadata": {},
   "source": [
    "### Convert 'createdAt' to datetime type\n",
    "\n",
    "\n",
    "The **createdAt** column is of type String and contains the UTC time when this Tweet was created. However we want to convert this to the datatime Python type for the ease of manipulation in future analysis."
   ]
  },
  {
   "cell_type": "code",
   "execution_count": 258,
   "metadata": {
    "collapsed": false
   },
   "outputs": [
    {
     "data": {
      "text/plain": [
       "id            int64\n",
       "userId        int64\n",
       "createdAt    object\n",
       "dtype: object"
      ]
     },
     "execution_count": 258,
     "metadata": {},
     "output_type": "execute_result"
    }
   ],
   "source": [
    "sample_data.dtypes[:3]"
   ]
  },
  {
   "cell_type": "code",
   "execution_count": 259,
   "metadata": {
    "collapsed": false
   },
   "outputs": [
    {
     "data": {
      "text/plain": [
       "id                    int64\n",
       "userId                int64\n",
       "createdAt    datetime64[ns]\n",
       "dtype: object"
      ]
     },
     "execution_count": 259,
     "metadata": {},
     "output_type": "execute_result"
    }
   ],
   "source": [
    "# Convert the type\n",
    "sample_data['createdAt'] = pd.to_datetime(sample_data['createdAt'])\n",
    "sample_data.dtypes[:3]"
   ]
  },
  {
   "cell_type": "code",
   "execution_count": 260,
   "metadata": {
    "collapsed": false
   },
   "outputs": [],
   "source": [
    "# We can now sort our dataframe based on createdAt column\n",
    "sample_data = sample_data.sort_values('createdAt', axis=0, ascending=False)"
   ]
  },
  {
   "cell_type": "code",
   "execution_count": 261,
   "metadata": {
    "collapsed": false
   },
   "outputs": [
    {
     "data": {
      "text/plain": [
       "count                    8697\n",
       "unique                   8070\n",
       "top       2016-09-16 08:25:00\n",
       "freq                        4\n",
       "first     2016-09-15 20:48:01\n",
       "last      2016-09-16 16:35:19\n",
       "Name: createdAt, dtype: object"
      ]
     },
     "execution_count": 261,
     "metadata": {},
     "output_type": "execute_result"
    }
   ],
   "source": [
    "sample_data.createdAt.describe()"
   ]
  },
  {
   "cell_type": "markdown",
   "metadata": {},
   "source": [
    "#### *Observation*\n",
    "\n",
    "There are *8070* unique datatimes in our dataframe, and all of our tweets are created between *2016-09-15 20:48:01* and *2016-09-16 08:25:00*"
   ]
  },
  {
   "cell_type": "markdown",
   "metadata": {},
   "source": [
    "### Remove and Replace Urls/UserName/Hashtags from tweets\n",
    "\n",
    "\n",
    "We want to remove urls and usernames from the content of the tweet because it gives us no information about the sentiment and the package we use to detect what language the tweet is written can't process a single url as the text has no feature to analyse.\n",
    "\n",
    "***Note: ***The original idea was to replace url with \"URL\" and @user to \"AT_USER\", however a single tweet contains either or both URL link and @user have no feature to provide to sentiment analysis and language detection, thus we have decided to replace it with empty String and remove the entire entry is there's nothing left after replacement."
   ]
  },
  {
   "cell_type": "code",
   "execution_count": 262,
   "metadata": {
    "collapsed": false
   },
   "outputs": [],
   "source": [
    "sample_data['hashtags'] = \"\"\n",
    "\n",
    "for index, row in sample_data.iterrows():\n",
    "    # match url in string and replace with \"\" empty string\n",
    "    t = re.sub(r\"http\\S+\", \"\", row['text'])\n",
    "    # remove @username\n",
    "    t = re.sub('@[^\\s]+', \"\", t)\n",
    "    # find all hashtags\n",
    "    tag_list = re.findall(r'#(\\w+)', t)\n",
    "    # remove hashtags\n",
    "    t = re.sub(r'#(\\w+)', \"\",  t)\n",
    "    # replace multiple whitespaces to one\n",
    "    t = re.sub('[\\s]+', \" \", t)\n",
    "    # trim\n",
    "    t = t.strip()\n",
    "    # fill in the hashtag column is the list is not empty\n",
    "    if (tag_list):\n",
    "        sample_data.set_value(index, \"hashtags\", \" \".join(tag_list))\n",
    "    if (t== \"\"): # remove the row if the result is empty after stripping\n",
    "        sample_data = sample_data.drop(index)\n",
    "    else:\n",
    "        sample_data.set_value(index, \"text\", t)\n"
   ]
  },
  {
   "cell_type": "code",
   "execution_count": 263,
   "metadata": {
    "collapsed": false
   },
   "outputs": [
    {
     "name": "stdout",
     "output_type": "stream",
     "text": [
      "There are 8308 entries in the dataframe\n"
     ]
    }
   ],
   "source": [
    "count = sample_data.text.count()\n",
    "\n",
    "print(\"There are {} entries in the dataframe\".format(count))"
   ]
  },
  {
   "cell_type": "markdown",
   "metadata": {
    "variables": {
     "count": "8308",
     "float(\"{0:.2f}\".format(count/TOTAL_ENTRIES * 100))": "94.52"
    }
   },
   "source": [
    "#### *Observation*\n",
    "\n",
    "From our inspection, most urls and usernames are removed from the tweet. As a result we have shrunk the dataset to {{count}} entries which is {{float(\"{0:.2f}\".format(count/TOTAL_ENTRIES * 100))}}% of the original dataset \n",
    "\n",
    "**Note**: Although Urls and Usernames don't contain any feature for sentiment analysis, but it could be the link to connect different tweets together (different user discussing/expressing their thought about the same topic)."
   ]
  },
  {
   "cell_type": "markdown",
   "metadata": {},
   "source": [
    "***\n",
    "## Data Stats\n",
    "\n",
    "### Language Usage\n",
    "\n",
    "\n",
    "We use [langdetect](https://pypi.python.org/pypi/langdetect) python package to determine what language is used for the tweet. Of course come tweets are written in multiple languages, this library returns the most probable language after analysis."
   ]
  },
  {
   "cell_type": "code",
   "execution_count": 264,
   "metadata": {
    "collapsed": true
   },
   "outputs": [],
   "source": [
    "TOTAL_ENTRIES = sample_data.text.count()"
   ]
  },
  {
   "cell_type": "code",
   "execution_count": 265,
   "metadata": {
    "collapsed": false
   },
   "outputs": [],
   "source": [
    "sample_data['language'] = ''\n",
    "\n",
    "for index, row in sample_data.iterrows():\n",
    "    lang = \"None\"\n",
    "    try:\n",
    "        lang = detect(row['text'])\n",
    "    except:\n",
    "        pass\n",
    "    sample_data.set_value(index, \"language\", lang)"
   ]
  },
  {
   "cell_type": "code",
   "execution_count": 266,
   "metadata": {
    "collapsed": true
   },
   "outputs": [],
   "source": [
    "def d(x):\n",
    "    return Series(dict(Number_of_tweets = x['text'].count(),\n",
    "                       Percentage = x['text'].count() / TOTAL_ENTRIES * 100,\n",
    "                       ))"
   ]
  },
  {
   "cell_type": "code",
   "execution_count": 267,
   "metadata": {
    "collapsed": false
   },
   "outputs": [
    {
     "data": {
      "text/html": [
       "<div>\n",
       "<table border=\"1\" class=\"dataframe\">\n",
       "  <thead>\n",
       "    <tr style=\"text-align: right;\">\n",
       "      <th></th>\n",
       "      <th>Number_of_tweets</th>\n",
       "      <th>Percentage</th>\n",
       "    </tr>\n",
       "    <tr>\n",
       "      <th>language</th>\n",
       "      <th></th>\n",
       "      <th></th>\n",
       "    </tr>\n",
       "  </thead>\n",
       "  <tbody>\n",
       "    <tr>\n",
       "      <th>en</th>\n",
       "      <td>2140.0</td>\n",
       "      <td>25.758305</td>\n",
       "    </tr>\n",
       "    <tr>\n",
       "      <th>fr</th>\n",
       "      <td>1689.0</td>\n",
       "      <td>20.329803</td>\n",
       "    </tr>\n",
       "    <tr>\n",
       "      <th>de</th>\n",
       "      <td>1208.0</td>\n",
       "      <td>14.540202</td>\n",
       "    </tr>\n",
       "    <tr>\n",
       "      <th>it</th>\n",
       "      <td>718.0</td>\n",
       "      <td>8.642273</td>\n",
       "    </tr>\n",
       "    <tr>\n",
       "      <th>ar</th>\n",
       "      <td>393.0</td>\n",
       "      <td>4.730380</td>\n",
       "    </tr>\n",
       "    <tr>\n",
       "      <th>es</th>\n",
       "      <td>307.0</td>\n",
       "      <td>3.695234</td>\n",
       "    </tr>\n",
       "    <tr>\n",
       "      <th>pt</th>\n",
       "      <td>252.0</td>\n",
       "      <td>3.033221</td>\n",
       "    </tr>\n",
       "    <tr>\n",
       "      <th>tr</th>\n",
       "      <td>169.0</td>\n",
       "      <td>2.034184</td>\n",
       "    </tr>\n",
       "    <tr>\n",
       "      <th>so</th>\n",
       "      <td>117.0</td>\n",
       "      <td>1.408281</td>\n",
       "    </tr>\n",
       "    <tr>\n",
       "      <th>tl</th>\n",
       "      <td>108.0</td>\n",
       "      <td>1.299952</td>\n",
       "    </tr>\n",
       "    <tr>\n",
       "      <th>nl</th>\n",
       "      <td>108.0</td>\n",
       "      <td>1.299952</td>\n",
       "    </tr>\n",
       "    <tr>\n",
       "      <th>id</th>\n",
       "      <td>100.0</td>\n",
       "      <td>1.203659</td>\n",
       "    </tr>\n",
       "    <tr>\n",
       "      <th>no</th>\n",
       "      <td>94.0</td>\n",
       "      <td>1.131440</td>\n",
       "    </tr>\n",
       "    <tr>\n",
       "      <th>None</th>\n",
       "      <td>90.0</td>\n",
       "      <td>1.083293</td>\n",
       "    </tr>\n",
       "    <tr>\n",
       "      <th>af</th>\n",
       "      <td>84.0</td>\n",
       "      <td>1.011074</td>\n",
       "    </tr>\n",
       "    <tr>\n",
       "      <th>ja</th>\n",
       "      <td>79.0</td>\n",
       "      <td>0.950891</td>\n",
       "    </tr>\n",
       "    <tr>\n",
       "      <th>ru</th>\n",
       "      <td>69.0</td>\n",
       "      <td>0.830525</td>\n",
       "    </tr>\n",
       "    <tr>\n",
       "      <th>ca</th>\n",
       "      <td>66.0</td>\n",
       "      <td>0.794415</td>\n",
       "    </tr>\n",
       "    <tr>\n",
       "      <th>da</th>\n",
       "      <td>50.0</td>\n",
       "      <td>0.601830</td>\n",
       "    </tr>\n",
       "    <tr>\n",
       "      <th>fi</th>\n",
       "      <td>45.0</td>\n",
       "      <td>0.541647</td>\n",
       "    </tr>\n",
       "    <tr>\n",
       "      <th>sv</th>\n",
       "      <td>43.0</td>\n",
       "      <td>0.517573</td>\n",
       "    </tr>\n",
       "    <tr>\n",
       "      <th>ro</th>\n",
       "      <td>40.0</td>\n",
       "      <td>0.481464</td>\n",
       "    </tr>\n",
       "    <tr>\n",
       "      <th>cy</th>\n",
       "      <td>40.0</td>\n",
       "      <td>0.481464</td>\n",
       "    </tr>\n",
       "    <tr>\n",
       "      <th>et</th>\n",
       "      <td>38.0</td>\n",
       "      <td>0.457390</td>\n",
       "    </tr>\n",
       "    <tr>\n",
       "      <th>vi</th>\n",
       "      <td>36.0</td>\n",
       "      <td>0.433317</td>\n",
       "    </tr>\n",
       "    <tr>\n",
       "      <th>pl</th>\n",
       "      <td>28.0</td>\n",
       "      <td>0.337025</td>\n",
       "    </tr>\n",
       "    <tr>\n",
       "      <th>sw</th>\n",
       "      <td>24.0</td>\n",
       "      <td>0.288878</td>\n",
       "    </tr>\n",
       "    <tr>\n",
       "      <th>fa</th>\n",
       "      <td>22.0</td>\n",
       "      <td>0.264805</td>\n",
       "    </tr>\n",
       "    <tr>\n",
       "      <th>hr</th>\n",
       "      <td>22.0</td>\n",
       "      <td>0.264805</td>\n",
       "    </tr>\n",
       "    <tr>\n",
       "      <th>hu</th>\n",
       "      <td>20.0</td>\n",
       "      <td>0.240732</td>\n",
       "    </tr>\n",
       "    <tr>\n",
       "      <th>sl</th>\n",
       "      <td>20.0</td>\n",
       "      <td>0.240732</td>\n",
       "    </tr>\n",
       "    <tr>\n",
       "      <th>th</th>\n",
       "      <td>16.0</td>\n",
       "      <td>0.192585</td>\n",
       "    </tr>\n",
       "    <tr>\n",
       "      <th>lv</th>\n",
       "      <td>15.0</td>\n",
       "      <td>0.180549</td>\n",
       "    </tr>\n",
       "    <tr>\n",
       "      <th>sq</th>\n",
       "      <td>13.0</td>\n",
       "      <td>0.156476</td>\n",
       "    </tr>\n",
       "    <tr>\n",
       "      <th>lt</th>\n",
       "      <td>10.0</td>\n",
       "      <td>0.120366</td>\n",
       "    </tr>\n",
       "    <tr>\n",
       "      <th>mk</th>\n",
       "      <td>8.0</td>\n",
       "      <td>0.096293</td>\n",
       "    </tr>\n",
       "    <tr>\n",
       "      <th>sk</th>\n",
       "      <td>8.0</td>\n",
       "      <td>0.096293</td>\n",
       "    </tr>\n",
       "    <tr>\n",
       "      <th>cs</th>\n",
       "      <td>6.0</td>\n",
       "      <td>0.072220</td>\n",
       "    </tr>\n",
       "    <tr>\n",
       "      <th>bg</th>\n",
       "      <td>5.0</td>\n",
       "      <td>0.060183</td>\n",
       "    </tr>\n",
       "    <tr>\n",
       "      <th>uk</th>\n",
       "      <td>3.0</td>\n",
       "      <td>0.036110</td>\n",
       "    </tr>\n",
       "    <tr>\n",
       "      <th>el</th>\n",
       "      <td>2.0</td>\n",
       "      <td>0.024073</td>\n",
       "    </tr>\n",
       "    <tr>\n",
       "      <th>he</th>\n",
       "      <td>1.0</td>\n",
       "      <td>0.012037</td>\n",
       "    </tr>\n",
       "    <tr>\n",
       "      <th>ur</th>\n",
       "      <td>1.0</td>\n",
       "      <td>0.012037</td>\n",
       "    </tr>\n",
       "    <tr>\n",
       "      <th>ko</th>\n",
       "      <td>1.0</td>\n",
       "      <td>0.012037</td>\n",
       "    </tr>\n",
       "  </tbody>\n",
       "</table>\n",
       "</div>"
      ],
      "text/plain": [
       "          Number_of_tweets  Percentage\n",
       "language                              \n",
       "en                  2140.0   25.758305\n",
       "fr                  1689.0   20.329803\n",
       "de                  1208.0   14.540202\n",
       "it                   718.0    8.642273\n",
       "ar                   393.0    4.730380\n",
       "es                   307.0    3.695234\n",
       "pt                   252.0    3.033221\n",
       "tr                   169.0    2.034184\n",
       "so                   117.0    1.408281\n",
       "tl                   108.0    1.299952\n",
       "nl                   108.0    1.299952\n",
       "id                   100.0    1.203659\n",
       "no                    94.0    1.131440\n",
       "None                  90.0    1.083293\n",
       "af                    84.0    1.011074\n",
       "ja                    79.0    0.950891\n",
       "ru                    69.0    0.830525\n",
       "ca                    66.0    0.794415\n",
       "da                    50.0    0.601830\n",
       "fi                    45.0    0.541647\n",
       "sv                    43.0    0.517573\n",
       "ro                    40.0    0.481464\n",
       "cy                    40.0    0.481464\n",
       "et                    38.0    0.457390\n",
       "vi                    36.0    0.433317\n",
       "pl                    28.0    0.337025\n",
       "sw                    24.0    0.288878\n",
       "fa                    22.0    0.264805\n",
       "hr                    22.0    0.264805\n",
       "hu                    20.0    0.240732\n",
       "sl                    20.0    0.240732\n",
       "th                    16.0    0.192585\n",
       "lv                    15.0    0.180549\n",
       "sq                    13.0    0.156476\n",
       "lt                    10.0    0.120366\n",
       "mk                     8.0    0.096293\n",
       "sk                     8.0    0.096293\n",
       "cs                     6.0    0.072220\n",
       "bg                     5.0    0.060183\n",
       "uk                     3.0    0.036110\n",
       "el                     2.0    0.024073\n",
       "he                     1.0    0.012037\n",
       "ur                     1.0    0.012037\n",
       "ko                     1.0    0.012037"
      ]
     },
     "execution_count": 267,
     "metadata": {},
     "output_type": "execute_result"
    }
   ],
   "source": [
    "lang_usage = sample_data.groupby('language').apply(d).sort_values('Percentage', axis=0, ascending=False)\n",
    "\n",
    "lang_usage"
   ]
  },
  {
   "cell_type": "markdown",
   "metadata": {},
   "source": [
    "#### *Observation*\n",
    "\n",
    "**English** is the most used language written ***25.9%*** of total tweets followed by ***20.3%*** of **French**, ***14.4%*** of **German**, ***8.6%*** of **Italian**, ***4.7%*** of **Arabic** and ***3.6%*** of **Spanish**. \n",
    "\n",
    "[langdetect](https://pypi.python.org/pypi/langdetect) wasn't able to determine the language used for 1.08% percentage of the tweets."
   ]
  },
  {
   "cell_type": "markdown",
   "metadata": {
    "collapsed": true
   },
   "source": [
    "### Number of Tweets per User \n"
   ]
  },
  {
   "cell_type": "code",
   "execution_count": 268,
   "metadata": {
    "collapsed": false
   },
   "outputs": [],
   "source": [
    "def f(x):\n",
    "    return Series(dict(Number_of_tweets = x['text'].count(),\n",
    "                       tweet_id = x['id'].min(),\n",
    "                       ))"
   ]
  },
  {
   "cell_type": "code",
   "execution_count": 269,
   "metadata": {
    "collapsed": false
   },
   "outputs": [
    {
     "data": {
      "text/html": [
       "<div>\n",
       "<table border=\"1\" class=\"dataframe\">\n",
       "  <thead>\n",
       "    <tr style=\"text-align: right;\">\n",
       "      <th></th>\n",
       "      <th>Number_of_tweets</th>\n",
       "      <th>tweet_id</th>\n",
       "    </tr>\n",
       "    <tr>\n",
       "      <th>userId</th>\n",
       "      <th></th>\n",
       "      <th></th>\n",
       "    </tr>\n",
       "  </thead>\n",
       "  <tbody>\n",
       "    <tr>\n",
       "      <th>766674630014857217</th>\n",
       "      <td>217</td>\n",
       "      <td>776525594515349505</td>\n",
       "    </tr>\n",
       "    <tr>\n",
       "      <th>758247740019126272</th>\n",
       "      <td>185</td>\n",
       "      <td>776550140828119040</td>\n",
       "    </tr>\n",
       "    <tr>\n",
       "      <th>735449229028675584</th>\n",
       "      <td>111</td>\n",
       "      <td>776522983837954049</td>\n",
       "    </tr>\n",
       "    <tr>\n",
       "      <th>570608126</th>\n",
       "      <td>93</td>\n",
       "      <td>776664047815106560</td>\n",
       "    </tr>\n",
       "    <tr>\n",
       "      <th>866661589</th>\n",
       "      <td>87</td>\n",
       "      <td>776525846563659776</td>\n",
       "    </tr>\n",
       "  </tbody>\n",
       "</table>\n",
       "</div>"
      ],
      "text/plain": [
       "                    Number_of_tweets            tweet_id\n",
       "userId                                                  \n",
       "766674630014857217               217  776525594515349505\n",
       "758247740019126272               185  776550140828119040\n",
       "735449229028675584               111  776522983837954049\n",
       "570608126                         93  776664047815106560\n",
       "866661589                         87  776525846563659776"
      ]
     },
     "execution_count": 269,
     "metadata": {},
     "output_type": "execute_result"
    }
   ],
   "source": [
    "tweet_count = sample_data.groupby('userId').apply(f)\n",
    "tweet_count = tweet_count.sort_values('Number_of_tweets', axis=0, ascending=False)\n",
    "tweet_count.head()"
   ]
  },
  {
   "cell_type": "code",
   "execution_count": 270,
   "metadata": {
    "collapsed": false
   },
   "outputs": [
    {
     "data": {
      "text/plain": [
       "count    2651.000000\n",
       "mean        3.133912\n",
       "std         8.303113\n",
       "min         1.000000\n",
       "25%         1.000000\n",
       "50%         1.000000\n",
       "75%         3.000000\n",
       "max       217.000000\n",
       "Name: Number_of_tweets, dtype: float64"
      ]
     },
     "execution_count": 270,
     "metadata": {},
     "output_type": "execute_result"
    }
   ],
   "source": [
    "tweet_count.Number_of_tweets.describe()"
   ]
  },
  {
   "cell_type": "markdown",
   "metadata": {},
   "source": [
    "#### *Observation*\n",
    "\n",
    "More than 50% of the user only had 1 tweet in our sample data, total avg is 3 tweets per user."
   ]
  },
  {
   "cell_type": "markdown",
   "metadata": {
    "variables": {
     "TOTAL_ENTRIES": "8308"
    }
   },
   "source": [
    "***\n",
    "### Number of Users in Sample Data\n",
    "\n",
    "\n",
    "All **{{TOTAL_ENTRIES}}** entries in our dataframe have an unique id. However there are **2651** unique users in our data. "
   ]
  },
  {
   "cell_type": "code",
   "execution_count": 271,
   "metadata": {
    "collapsed": false,
    "scrolled": true
   },
   "outputs": [
    {
     "name": "stdout",
     "output_type": "stream",
     "text": [
      "Percentage of 2651(users) / 8308(tweets) = 0.3190900337024555%\n"
     ]
    }
   ],
   "source": [
    "total_tweets = len(pd.unique(sample_data.id.ravel()))\n",
    "total_unique_user = len(pd.unique(sample_data.userId.ravel()))\n",
    "\n",
    "print(\"Percentage of {}(users) / {}(tweets) = {}%\".format(total_unique_user, total_tweets, total_unique_user/total_tweets))"
   ]
  },
  {
   "cell_type": "markdown",
   "metadata": {},
   "source": [
    "***\n",
    "### Percentage with hashtags\n",
    "\n",
    "We want to know the amount of data contain hashtag info. This could give us a hint whether hashtags are used significantly by users and could potential give us location/event information for future sentiment analysis.\n",
    "\n",
    "#### Number of tweets per hashtag\n",
    "\n",
    "***Note: ***We did not split the entry which contain multiple hashtags because the result from a simple groupby generates what we hoped to obtain."
   ]
  },
  {
   "cell_type": "code",
   "execution_count": 297,
   "metadata": {
    "collapsed": true
   },
   "outputs": [],
   "source": [
    "def f(x):\n",
    "    return Series(dict(Number_of_tweets = x['text'].count(),\n",
    "                       Percentage = x['text'].count() / TOTAL_ENTRIES * 100,\n",
    "                       ))"
   ]
  },
  {
   "cell_type": "code",
   "execution_count": 298,
   "metadata": {
    "collapsed": false
   },
   "outputs": [
    {
     "data": {
      "text/html": [
       "<div>\n",
       "<table border=\"1\" class=\"dataframe\">\n",
       "  <thead>\n",
       "    <tr style=\"text-align: right;\">\n",
       "      <th></th>\n",
       "      <th>Number_of_tweets</th>\n",
       "      <th>Percentage</th>\n",
       "    </tr>\n",
       "    <tr>\n",
       "      <th>hashtags</th>\n",
       "      <th></th>\n",
       "      <th></th>\n",
       "    </tr>\n",
       "  </thead>\n",
       "  <tbody>\n",
       "    <tr>\n",
       "      <th></th>\n",
       "      <td>6358.0</td>\n",
       "      <td>76.528647</td>\n",
       "    </tr>\n",
       "    <tr>\n",
       "      <th>BFYConcertFinale</th>\n",
       "      <td>191.0</td>\n",
       "      <td>2.298989</td>\n",
       "    </tr>\n",
       "    <tr>\n",
       "      <th>DiFe16</th>\n",
       "      <td>27.0</td>\n",
       "      <td>0.324988</td>\n",
       "    </tr>\n",
       "    <tr>\n",
       "      <th>motormaniaci webtv sbandy moto instamoto</th>\n",
       "      <td>23.0</td>\n",
       "      <td>0.276842</td>\n",
       "    </tr>\n",
       "    <tr>\n",
       "      <th>Controleurs</th>\n",
       "      <td>20.0</td>\n",
       "      <td>0.240732</td>\n",
       "    </tr>\n",
       "  </tbody>\n",
       "</table>\n",
       "</div>"
      ],
      "text/plain": [
       "                                          Number_of_tweets  Percentage\n",
       "hashtags                                                              \n",
       "                                                    6358.0   76.528647\n",
       "BFYConcertFinale                                     191.0    2.298989\n",
       "DiFe16                                                27.0    0.324988\n",
       "motormaniaci webtv sbandy moto instamoto              23.0    0.276842\n",
       "Controleurs                                           20.0    0.240732"
      ]
     },
     "execution_count": 298,
     "metadata": {},
     "output_type": "execute_result"
    }
   ],
   "source": [
    "hashtag_count = sample_data.groupby('hashtags').apply(f)\n",
    "hashtag_count = hashtag_count.sort_values('Number_of_tweets', axis=0, ascending=False)\n",
    "number_without_tag = hashtag_count.Number_of_tweets.get_value(0)\n",
    "hashtag_count.head(5)"
   ]
  },
  {
   "cell_type": "markdown",
   "metadata": {},
   "source": [
    "#### Usage of shared / common tags\n",
    "\n",
    "**Question:** What percentage of tweets had 1/2/3.. shared tags. \n",
    "\n",
    "*It's a bit obscure but we want to know how many tags were shared by tweets in our dataset*"
   ]
  },
  {
   "cell_type": "code",
   "execution_count": 299,
   "metadata": {
    "collapsed": true
   },
   "outputs": [],
   "source": [
    "def f(x):\n",
    "    return Series(dict(Percentage = x['Number_of_tweets'].sum() / TOTAL_ENTRIES * 100,\n",
    "                       ))"
   ]
  },
  {
   "cell_type": "code",
   "execution_count": 302,
   "metadata": {
    "collapsed": false
   },
   "outputs": [
    {
     "data": {
      "text/html": [
       "<div>\n",
       "<table border=\"1\" class=\"dataframe\">\n",
       "  <thead>\n",
       "    <tr style=\"text-align: right;\">\n",
       "      <th></th>\n",
       "      <th>Percentage</th>\n",
       "    </tr>\n",
       "    <tr>\n",
       "      <th>Number_of_tweets</th>\n",
       "      <th></th>\n",
       "    </tr>\n",
       "  </thead>\n",
       "  <tbody>\n",
       "    <tr>\n",
       "      <th>6358.0</th>\n",
       "      <td>76.528647</td>\n",
       "    </tr>\n",
       "    <tr>\n",
       "      <th>1.0</th>\n",
       "      <td>14.973519</td>\n",
       "    </tr>\n",
       "    <tr>\n",
       "      <th>191.0</th>\n",
       "      <td>2.298989</td>\n",
       "    </tr>\n",
       "    <tr>\n",
       "      <th>2.0</th>\n",
       "      <td>1.949928</td>\n",
       "    </tr>\n",
       "    <tr>\n",
       "      <th>3.0</th>\n",
       "      <td>0.722195</td>\n",
       "    </tr>\n",
       "    <tr>\n",
       "      <th>4.0</th>\n",
       "      <td>0.481464</td>\n",
       "    </tr>\n",
       "    <tr>\n",
       "      <th>7.0</th>\n",
       "      <td>0.337025</td>\n",
       "    </tr>\n",
       "    <tr>\n",
       "      <th>27.0</th>\n",
       "      <td>0.324988</td>\n",
       "    </tr>\n",
       "    <tr>\n",
       "      <th>13.0</th>\n",
       "      <td>0.312951</td>\n",
       "    </tr>\n",
       "    <tr>\n",
       "      <th>5.0</th>\n",
       "      <td>0.300915</td>\n",
       "    </tr>\n",
       "    <tr>\n",
       "      <th>23.0</th>\n",
       "      <td>0.276842</td>\n",
       "    </tr>\n",
       "    <tr>\n",
       "      <th>20.0</th>\n",
       "      <td>0.240732</td>\n",
       "    </tr>\n",
       "    <tr>\n",
       "      <th>18.0</th>\n",
       "      <td>0.216659</td>\n",
       "    </tr>\n",
       "    <tr>\n",
       "      <th>6.0</th>\n",
       "      <td>0.216659</td>\n",
       "    </tr>\n",
       "    <tr>\n",
       "      <th>15.0</th>\n",
       "      <td>0.180549</td>\n",
       "    </tr>\n",
       "    <tr>\n",
       "      <th>14.0</th>\n",
       "      <td>0.168512</td>\n",
       "    </tr>\n",
       "    <tr>\n",
       "      <th>12.0</th>\n",
       "      <td>0.144439</td>\n",
       "    </tr>\n",
       "    <tr>\n",
       "      <th>10.0</th>\n",
       "      <td>0.120366</td>\n",
       "    </tr>\n",
       "    <tr>\n",
       "      <th>9.0</th>\n",
       "      <td>0.108329</td>\n",
       "    </tr>\n",
       "    <tr>\n",
       "      <th>8.0</th>\n",
       "      <td>0.096293</td>\n",
       "    </tr>\n",
       "  </tbody>\n",
       "</table>\n",
       "</div>"
      ],
      "text/plain": [
       "                  Percentage\n",
       "Number_of_tweets            \n",
       "6358.0             76.528647\n",
       "1.0                14.973519\n",
       "191.0               2.298989\n",
       "2.0                 1.949928\n",
       "3.0                 0.722195\n",
       "4.0                 0.481464\n",
       "7.0                 0.337025\n",
       "27.0                0.324988\n",
       "13.0                0.312951\n",
       "5.0                 0.300915\n",
       "23.0                0.276842\n",
       "20.0                0.240732\n",
       "18.0                0.216659\n",
       "6.0                 0.216659\n",
       "15.0                0.180549\n",
       "14.0                0.168512\n",
       "12.0                0.144439\n",
       "10.0                0.120366\n",
       "9.0                 0.108329\n",
       "8.0                 0.096293"
      ]
     },
     "execution_count": 302,
     "metadata": {},
     "output_type": "execute_result"
    }
   ],
   "source": [
    "common_tag = hashtag_count.groupby('Number_of_tweets').apply(f)\n",
    "common_tag = common_tag.sort_values('Percentage', axis=0, ascending=False)\n",
    "common_tag"
   ]
  },
  {
   "cell_type": "markdown",
   "metadata": {
    "variables": {
     "TOTAL_ENTRIES": "8308",
     "float(\"{0:.2f}\".format(number_without_tag/TOTAL_ENTRIES * 100))": "76.53",
     "number_without_tag": "6358.0"
    }
   },
   "source": [
    "#### *Observation*\n",
    "\n",
    "The majority of the tweets ({{number_without_tag}} out of {{TOTAL_ENTRIES}}) have no hashtags, which is **{{float(\"{0:.2f}\".format(number_without_tag/TOTAL_ENTRIES * 100))}}**% of the dataset. More than 50% of the rest of the dataset don't share any common hashtags."
   ]
  },
  {
   "cell_type": "markdown",
   "metadata": {},
   "source": [
    "### 0.3.1 Percentage with geolocation"
   ]
  },
  {
   "cell_type": "code",
   "execution_count": null,
   "metadata": {
    "collapsed": false
   },
   "outputs": [],
   "source": [
    "long = sample_data.longitude\n",
    "long_not_null = (long != r'\\N').sum()\n",
    "print(\"Percentage of data with longitude info:\", 100*(long_not_null/len(sample_data)))\n",
    "print(\"Nbr: \", long_not_null)"
   ]
  },
  {
   "cell_type": "code",
   "execution_count": null,
   "metadata": {
    "collapsed": false
   },
   "outputs": [],
   "source": [
    "lat = sample_data.latitude\n",
    "lat_not_null = (lat != r'\\N').sum()\n",
    "print(\"Percentage of data with latitude info:\", 100*(lat_not_null/len(sample_data)))\n",
    "print(\"Nbr: \", lat_not_null)"
   ]
  },
  {
   "cell_type": "code",
   "execution_count": null,
   "metadata": {
    "collapsed": false
   },
   "outputs": [],
   "source": [
    "long_not_null = long!=r'\\N'\n",
    "lat_not_null = lat!=r'\\N'\n",
    "diff = (long_not_null != lat_not_null).any()\n",
    "print(\"Is there null long/lat with valid lat/long ? :\", diff)"
   ]
  },
  {
   "cell_type": "markdown",
   "metadata": {},
   "source": [
    "That's for the latitude/longitude... what ? The user ? \n",
    "Because we also have the fields ***placeLongitude*** and ***placeLatitude***.\n",
    "\n",
    "From the twitter api:\n",
    "> Places are specific, named locations with corresponding geo coordinates. They can be attached to Tweets by specifying a place_id when tweeting. Tweets associated with places are not necessarily issued from that location but could also potentially be about that location.\n",
    "\n",
    "Since we want to map the sentiment of tweet with a given location, we will use fields ***placeLongitude*** and ***placeLatitude*** for this project."
   ]
  },
  {
   "cell_type": "code",
   "execution_count": null,
   "metadata": {
    "collapsed": false
   },
   "outputs": [],
   "source": [
    "xx = sample_data.groupby(['placeId']).size()\n",
    "xx.sort(ascending=False)\n",
    "xx"
   ]
  },
  {
   "cell_type": "code",
   "execution_count": null,
   "metadata": {
    "collapsed": true
   },
   "outputs": [],
   "source": []
  },
  {
   "cell_type": "markdown",
   "metadata": {},
   "source": [
    "***\n",
    "## Emoji\n"
   ]
  },
  {
   "cell_type": "code",
   "execution_count": null,
   "metadata": {
    "collapsed": true
   },
   "outputs": [],
   "source": []
  },
  {
   "cell_type": "code",
   "execution_count": null,
   "metadata": {
    "collapsed": true
   },
   "outputs": [],
   "source": []
  },
  {
   "cell_type": "code",
   "execution_count": null,
   "metadata": {
    "collapsed": true
   },
   "outputs": [],
   "source": []
  },
  {
   "cell_type": "code",
   "execution_count": null,
   "metadata": {
    "collapsed": true
   },
   "outputs": [],
   "source": []
  }
 ],
 "metadata": {
  "anaconda-cloud": {},
  "kernelspec": {
   "display_name": "Python 3",
   "language": "python",
   "name": "python3"
  },
  "language_info": {
   "codemirror_mode": {
    "name": "ipython",
    "version": 3
   },
   "file_extension": ".py",
   "mimetype": "text/x-python",
   "name": "python",
   "nbconvert_exporter": "python",
   "pygments_lexer": "ipython3",
   "version": "3.6.0"
  },
  "toc": {
   "nav_menu": {
    "height": "120px",
    "width": "252px"
   },
   "navigate_menu": true,
   "number_sections": false,
   "sideBar": true,
   "threshold": 4,
   "toc_cell": true,
   "toc_section_display": "none",
   "toc_window_display": false
  }
 },
 "nbformat": 4,
 "nbformat_minor": 1
}
