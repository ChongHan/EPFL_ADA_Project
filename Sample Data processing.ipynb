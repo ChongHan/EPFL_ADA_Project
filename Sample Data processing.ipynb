{
 "cells": [
  {
   "cell_type": "markdown",
   "metadata": {
    "toc": "true"
   },
   "source": [
    "# Table of Contents\n",
    " <p><div class=\"lev1 toc-item\"><a href=\"#0.-Data-exploration\" data-toc-modified-id=\"0.-Data-exploration-1\"><span class=\"toc-item-num\">1&nbsp;&nbsp;</span>0. Data exploration</a></div><div class=\"lev2 toc-item\"><a href=\"#0.1-Load-in-the-schema-of-the-data.\" data-toc-modified-id=\"0.1-Load-in-the-schema-of-the-data.-11\"><span class=\"toc-item-num\">1.1&nbsp;&nbsp;</span>0.1 Load in the schema of the data.</a></div><div class=\"lev2 toc-item\"><a href=\"#0.2-Import-sample-of-the-data\" data-toc-modified-id=\"0.2-Import-sample-of-the-data-12\"><span class=\"toc-item-num\">1.2&nbsp;&nbsp;</span>0.2 Import sample of the data</a></div><div class=\"lev2 toc-item\"><a href=\"#0.3-Data-stats\" data-toc-modified-id=\"0.3-Data-stats-13\"><span class=\"toc-item-num\">1.3&nbsp;&nbsp;</span>0.3 Data stats</a></div><div class=\"lev3 toc-item\"><a href=\"#Total-Number-of-Tweets\" data-toc-modified-id=\"Total-Number-of-Tweets-131\"><span class=\"toc-item-num\">1.3.1&nbsp;&nbsp;</span>Total Number of Tweets</a></div><div class=\"lev3 toc-item\"><a href=\"#Column-formats\" data-toc-modified-id=\"Column-formats-132\"><span class=\"toc-item-num\">1.3.2&nbsp;&nbsp;</span>Column formats</a></div><div class=\"lev3 toc-item\"><a href=\"#Column-Descriptions\" data-toc-modified-id=\"Column-Descriptions-133\"><span class=\"toc-item-num\">1.3.3&nbsp;&nbsp;</span>Column Descriptions</a></div><div class=\"lev3 toc-item\"><a href=\"#NaN-Cells\" data-toc-modified-id=\"NaN-Cells-134\"><span class=\"toc-item-num\">1.3.4&nbsp;&nbsp;</span>NaN Cells</a></div><div class=\"lev3 toc-item\"><a href=\"#Number-of-Users-in-Sample-Data\" data-toc-modified-id=\"Number-of-Users-in-Sample-Data-135\"><span class=\"toc-item-num\">1.3.5&nbsp;&nbsp;</span>Number of Users in Sample Data</a></div><div class=\"lev3 toc-item\"><a href=\"#Number-of-Tweets-per-User\" data-toc-modified-id=\"Number-of-Tweets-per-User-136\"><span class=\"toc-item-num\">1.3.6&nbsp;&nbsp;</span>Number of Tweets per User</a></div><div class=\"lev4 toc-item\"><a href=\"#Observation\" data-toc-modified-id=\"Observation-1361\"><span class=\"toc-item-num\">1.3.6.1&nbsp;&nbsp;</span><em>Observation</em></a></div><div class=\"lev3 toc-item\"><a href=\"#Convert-'createdAt'-to-datetime-type\" data-toc-modified-id=\"Convert-'createdAt'-to-datetime-type-137\"><span class=\"toc-item-num\">1.3.7&nbsp;&nbsp;</span>Convert 'createdAt' to datetime type</a></div><div class=\"lev4 toc-item\"><a href=\"#Observation\" data-toc-modified-id=\"Observation-1371\"><span class=\"toc-item-num\">1.3.7.1&nbsp;&nbsp;</span><em>Observation</em></a></div><div class=\"lev3 toc-item\"><a href=\"#Remove-Urls-from-tweets\" data-toc-modified-id=\"Remove-Urls-from-tweets-138\"><span class=\"toc-item-num\">1.3.8&nbsp;&nbsp;</span>Remove Urls from tweets</a></div><div class=\"lev4 toc-item\"><a href=\"#Observation\" data-toc-modified-id=\"Observation-1381\"><span class=\"toc-item-num\">1.3.8.1&nbsp;&nbsp;</span><em>Observation</em></a></div><div class=\"lev3 toc-item\"><a href=\"#Language-Usage\" data-toc-modified-id=\"Language-Usage-139\"><span class=\"toc-item-num\">1.3.9&nbsp;&nbsp;</span>Language Usage</a></div><div class=\"lev4 toc-item\"><a href=\"#Observation\" data-toc-modified-id=\"Observation-1391\"><span class=\"toc-item-num\">1.3.9.1&nbsp;&nbsp;</span><em>Observation</em></a></div><div class=\"lev3 toc-item\"><a href=\"#0.3.1-Percentage-with-geolocation\" data-toc-modified-id=\"0.3.1-Percentage-with-geolocation-1310\"><span class=\"toc-item-num\">1.3.10&nbsp;&nbsp;</span>0.3.1 Percentage with geolocation</a></div>"
   ]
  },
  {
   "cell_type": "markdown",
   "metadata": {},
   "source": [
    "> **Purpose of this notebook: **\n",
    "\n",
    "> Before diving to the huge datasets provided by Swisscom, need to understand it and understand what we want to do with it. So we will use this notebook with a small sample of the datasets, to simulate the steps of our project. The final goal is to create a python scipt, so we just need to launch it on the cluster to obtain the desired results."
   ]
  },
  {
   "cell_type": "markdown",
   "metadata": {},
   "source": [
    "**Import Packages**"
   ]
  },
  {
   "cell_type": "code",
   "execution_count": 57,
   "metadata": {
    "collapsed": false
   },
   "outputs": [],
   "source": [
    "import pandas as pd\n",
    "import numpy as np\n",
    "import csv\n",
    "\n",
    "# plots\n",
    "from matplotlib.pyplot import *\n",
    "matplotlib.style.use('ggplot')\n",
    "\n",
    "from pylab import *\n",
    "\n",
    "from pandas import Series\n",
    "import re\n",
    "\n",
    "# language detection\n",
    "from langdetect import detect"
   ]
  },
  {
   "cell_type": "code",
   "execution_count": 58,
   "metadata": {
    "collapsed": false
   },
   "outputs": [
    {
     "name": "stdout",
     "output_type": "stream",
     "text": [
      "Pandas version 0.19.2\n"
     ]
    }
   ],
   "source": [
    "print(\"Pandas version {}\".format(pd.__version__))"
   ]
  },
  {
   "cell_type": "code",
   "execution_count": 59,
   "metadata": {
    "collapsed": true
   },
   "outputs": [],
   "source": [
    "#increase the max column width displayed from the default 50\n",
    "pd.set_option('display.max_colwidth', 200)"
   ]
  },
  {
   "cell_type": "markdown",
   "metadata": {},
   "source": [
    "# 0. Data exploration"
   ]
  },
  {
   "cell_type": "markdown",
   "metadata": {},
   "source": [
    "## 0.1 Load in the schema of the data.\n",
    "***\n",
    "\n",
    "Note that *schema.txt* file given in the epfl cluster was manually modified in order to import it easily with pandas."
   ]
  },
  {
   "cell_type": "code",
   "execution_count": 60,
   "metadata": {
    "collapsed": false
   },
   "outputs": [
    {
     "name": "stdout",
     "output_type": "stream",
     "text": [
      "Nbr features: 20\n"
     ]
    },
    {
     "data": {
      "text/plain": [
       "['id',\n",
       " 'userId',\n",
       " 'createdAt',\n",
       " 'text',\n",
       " 'longitude',\n",
       " 'latitude',\n",
       " 'placeId',\n",
       " 'inReplyTo',\n",
       " 'source',\n",
       " 'truncated',\n",
       " 'placeLatitude',\n",
       " 'placeLongitude',\n",
       " 'sourceName',\n",
       " 'sourceUrl',\n",
       " 'userName',\n",
       " 'screenName',\n",
       " 'followersCount',\n",
       " 'friendsCount',\n",
       " 'statusesCount',\n",
       " 'userLocation']"
      ]
     },
     "execution_count": 60,
     "metadata": {},
     "output_type": "execute_result"
    }
   ],
   "source": [
    "# read schema \n",
    "schema_rawfile = pd.read_csv(\"twitter-swisscom/schema_home.txt\", header=None, sep='\\s+')\n",
    "# extract schema columns\n",
    "twitter_data_columns = schema_rawfile[1].values\n",
    "\n",
    "print(\"Nbr features:\",len(twitter_data_columns))\n",
    "list(twitter_data_columns)"
   ]
  },
  {
   "cell_type": "markdown",
   "metadata": {},
   "source": [
    "## 0.2 Import sample of the data\n",
    "***\n",
    "\n",
    "We will not work directly with the entire datasets. Instead, we prepare our code and function here, with a small sample of the data. Then we create a script to be executed in the EPFL cluster.\n"
   ]
  },
  {
   "cell_type": "markdown",
   "metadata": {},
   "source": [
    "**First step:** \"Clean\" the tsv file. The files we are given are in a *.tsv* format: there is one tweet per line and each features within a tweet are separated by a tab. Unfortunately, some tweets text contain break line (*\\n*). If we try to import them like that, python will take those break line *\\n* as a new line, therefore as a new tweet. \n",
    "\n",
    "But the break line inside the tweets are preceed by a backslash. Therefore, we run a bash command to replace all combination of *\\ + \\n* by a simple white space.\n",
    "\n",
    ">     sed -e :a -e '/\\\\$/N; s/\\\\\\n/ /; ta' twitter-swisscom/sample.tsv  > data_clean/sample.tsv"
   ]
  },
  {
   "cell_type": "markdown",
   "metadata": {},
   "source": [
    "**Second step**: The file *data_clean/sample.tsv* has the following attributes:\n",
    "\n",
    "    *application/octet-stream; charset=binary*\n",
    "\n",
    "Therefore, we cannot load it *as is* into a pandas Dataframe. We will convert it to a simple *text/plain* with encoding *utf-8*, that pandas can perfectly handle.\n",
    "\n",
    ">     cat data_clean/sample.tsv | tr -d '\\0' > data_clean/sample_formatted.tsv"
   ]
  },
  {
   "cell_type": "markdown",
   "metadata": {},
   "source": [
    "**Third step**: Now we can import the data to a pandas dataframe."
   ]
  },
  {
   "cell_type": "code",
   "execution_count": 61,
   "metadata": {
    "collapsed": false
   },
   "outputs": [
    {
     "data": {
      "text/html": [
       "<div>\n",
       "<table border=\"1\" class=\"dataframe\">\n",
       "  <thead>\n",
       "    <tr style=\"text-align: right;\">\n",
       "      <th></th>\n",
       "      <th>id</th>\n",
       "      <th>userId</th>\n",
       "      <th>createdAt</th>\n",
       "      <th>text</th>\n",
       "      <th>longitude</th>\n",
       "      <th>latitude</th>\n",
       "      <th>placeId</th>\n",
       "      <th>inReplyTo</th>\n",
       "      <th>source</th>\n",
       "      <th>truncated</th>\n",
       "      <th>placeLatitude</th>\n",
       "      <th>placeLongitude</th>\n",
       "      <th>sourceName</th>\n",
       "      <th>sourceUrl</th>\n",
       "      <th>userName</th>\n",
       "      <th>screenName</th>\n",
       "      <th>followersCount</th>\n",
       "      <th>friendsCount</th>\n",
       "      <th>statusesCount</th>\n",
       "      <th>userLocation</th>\n",
       "    </tr>\n",
       "  </thead>\n",
       "  <tbody>\n",
       "    <tr>\n",
       "      <th>0</th>\n",
       "      <td>776522983837954049</td>\n",
       "      <td>735449229028675584</td>\n",
       "      <td>2016-09-15 20:48:01</td>\n",
       "      <td>se lo dici tu... https://t.co/x7Qm1VHBKL</td>\n",
       "      <td>\\N</td>\n",
       "      <td>\\N</td>\n",
       "      <td>51c0e6b24c64e54e</td>\n",
       "      <td>\\N</td>\n",
       "      <td>1</td>\n",
       "      <td>NaN</td>\n",
       "      <td>46.0027</td>\n",
       "      <td>8.96044</td>\n",
       "      <td>Twitter for iPhone</td>\n",
       "      <td>http://twitter.com/#!/download/iphone</td>\n",
       "      <td>plvtone filiae.</td>\n",
       "      <td>hazel_chb</td>\n",
       "      <td>146</td>\n",
       "      <td>110</td>\n",
       "      <td>28621</td>\n",
       "      <td>Earleen.</td>\n",
       "    </tr>\n",
       "    <tr>\n",
       "      <th>1</th>\n",
       "      <td>776523000636203010</td>\n",
       "      <td>2741685639</td>\n",
       "      <td>2016-09-15 20:48:05</td>\n",
       "      <td>https://t.co/noYrTnqmg9</td>\n",
       "      <td>\\N</td>\n",
       "      <td>\\N</td>\n",
       "      <td>4e7c21fd2af027c6</td>\n",
       "      <td>\\N</td>\n",
       "      <td>1</td>\n",
       "      <td>NaN</td>\n",
       "      <td>46.8131</td>\n",
       "      <td>8.22414</td>\n",
       "      <td>Twitter for iPhone</td>\n",
       "      <td>http://twitter.com/#!/download/iphone</td>\n",
       "      <td>samara</td>\n",
       "      <td>letisieg</td>\n",
       "      <td>755</td>\n",
       "      <td>2037</td>\n",
       "      <td>3771</td>\n",
       "      <td>Suisse</td>\n",
       "    </tr>\n",
       "    <tr>\n",
       "      <th>2</th>\n",
       "      <td>776523045200691200</td>\n",
       "      <td>435239151</td>\n",
       "      <td>2016-09-15 20:48:15</td>\n",
       "      <td>@BesacTof @Leonid_CCCP Tu dois t'engager en signant précisément:\"Je partage les valeurs républicaines de la droite et du centre 1/2...</td>\n",
       "      <td>\\N</td>\n",
       "      <td>\\N</td>\n",
       "      <td>12eb9b254faf37a3</td>\n",
       "      <td>776522113859608576</td>\n",
       "      <td>5</td>\n",
       "      <td>NaN</td>\n",
       "      <td>47.2010</td>\n",
       "      <td>5.94082</td>\n",
       "      <td>Twitter for Android</td>\n",
       "      <td>http://twitter.com/download/android</td>\n",
       "      <td>lebrübrü❤</td>\n",
       "      <td>lebrubru</td>\n",
       "      <td>811</td>\n",
       "      <td>595</td>\n",
       "      <td>30191</td>\n",
       "      <td>Fontain</td>\n",
       "    </tr>\n",
       "    <tr>\n",
       "      <th>3</th>\n",
       "      <td>776523058404290560</td>\n",
       "      <td>503244217</td>\n",
       "      <td>2016-09-15 20:48:18</td>\n",
       "      <td>@Mno0or_Abyat اشوف مظاهرات على قانون العمل الجديد انا طلعت الصباح من هناك مافيه شي بس اشوف الأخبار قبل شوي المشكلة راجع بعد يومين !!</td>\n",
       "      <td>\\N</td>\n",
       "      <td>\\N</td>\n",
       "      <td>30bcd7f767b4041e</td>\n",
       "      <td>776521597515624448</td>\n",
       "      <td>1</td>\n",
       "      <td>NaN</td>\n",
       "      <td>45.8011</td>\n",
       "      <td>6.16552</td>\n",
       "      <td>Twitter for iPhone</td>\n",
       "      <td>http://twitter.com/#!/download/iphone</td>\n",
       "      <td>عبدالله القنيص</td>\n",
       "      <td>bingnais</td>\n",
       "      <td>28433</td>\n",
       "      <td>417</td>\n",
       "      <td>12262</td>\n",
       "      <td>Shargeyah</td>\n",
       "    </tr>\n",
       "    <tr>\n",
       "      <th>4</th>\n",
       "      <td>776523058504925185</td>\n",
       "      <td>452805259</td>\n",
       "      <td>2016-09-15 20:48:18</td>\n",
       "      <td>Greek night #geneve (@ Emilios in Genève) https://t.co/sEplW0Mcyz</td>\n",
       "      <td>6.14414</td>\n",
       "      <td>46.1966</td>\n",
       "      <td>c3a6437e1b1a726d</td>\n",
       "      <td>\\N</td>\n",
       "      <td>3</td>\n",
       "      <td>NaN</td>\n",
       "      <td>46.2048</td>\n",
       "      <td>6.14319</td>\n",
       "      <td>foursquare</td>\n",
       "      <td>http://foursquare.com</td>\n",
       "      <td>Alkan Şenli</td>\n",
       "      <td>Alkanoli</td>\n",
       "      <td>204</td>\n",
       "      <td>172</td>\n",
       "      <td>3390</td>\n",
       "      <td>İstanbul/Burgazada</td>\n",
       "    </tr>\n",
       "  </tbody>\n",
       "</table>\n",
       "</div>"
      ],
      "text/plain": [
       "                   id              userId            createdAt  \\\n",
       "0  776522983837954049  735449229028675584  2016-09-15 20:48:01   \n",
       "1  776523000636203010          2741685639  2016-09-15 20:48:05   \n",
       "2  776523045200691200           435239151  2016-09-15 20:48:15   \n",
       "3  776523058404290560           503244217  2016-09-15 20:48:18   \n",
       "4  776523058504925185           452805259  2016-09-15 20:48:18   \n",
       "\n",
       "                                                                                                                                     text  \\\n",
       "0                                                                                                se lo dici tu... https://t.co/x7Qm1VHBKL   \n",
       "1                                                                                                                 https://t.co/noYrTnqmg9   \n",
       "2  @BesacTof @Leonid_CCCP Tu dois t'engager en signant précisément:\"Je partage les valeurs républicaines de la droite et du centre 1/2...   \n",
       "3    @Mno0or_Abyat اشوف مظاهرات على قانون العمل الجديد انا طلعت الصباح من هناك مافيه شي بس اشوف الأخبار قبل شوي المشكلة راجع بعد يومين !!   \n",
       "4                                                                       Greek night #geneve (@ Emilios in Genève) https://t.co/sEplW0Mcyz   \n",
       "\n",
       "  longitude latitude           placeId           inReplyTo  source  truncated  \\\n",
       "0        \\N       \\N  51c0e6b24c64e54e                  \\N       1        NaN   \n",
       "1        \\N       \\N  4e7c21fd2af027c6                  \\N       1        NaN   \n",
       "2        \\N       \\N  12eb9b254faf37a3  776522113859608576       5        NaN   \n",
       "3        \\N       \\N  30bcd7f767b4041e  776521597515624448       1        NaN   \n",
       "4   6.14414  46.1966  c3a6437e1b1a726d                  \\N       3        NaN   \n",
       "\n",
       "   placeLatitude  placeLongitude           sourceName  \\\n",
       "0        46.0027         8.96044   Twitter for iPhone   \n",
       "1        46.8131         8.22414   Twitter for iPhone   \n",
       "2        47.2010         5.94082  Twitter for Android   \n",
       "3        45.8011         6.16552   Twitter for iPhone   \n",
       "4        46.2048         6.14319           foursquare   \n",
       "\n",
       "                               sourceUrl         userName screenName  \\\n",
       "0  http://twitter.com/#!/download/iphone  plvtone filiae.  hazel_chb   \n",
       "1  http://twitter.com/#!/download/iphone           samara   letisieg   \n",
       "2    http://twitter.com/download/android        lebrübrü❤   lebrubru   \n",
       "3  http://twitter.com/#!/download/iphone   عبدالله القنيص   bingnais   \n",
       "4                  http://foursquare.com      Alkan Şenli   Alkanoli   \n",
       "\n",
       "   followersCount  friendsCount  statusesCount        userLocation  \n",
       "0             146           110          28621           Earleen.   \n",
       "1             755          2037           3771              Suisse  \n",
       "2             811           595          30191             Fontain  \n",
       "3           28433           417          12262           Shargeyah  \n",
       "4             204           172           3390  İstanbul/Burgazada  "
      ]
     },
     "execution_count": 61,
     "metadata": {},
     "output_type": "execute_result"
    }
   ],
   "source": [
    "sample_data = pd.read_table(r\"data_clean/sample_formatted.tsv\",sep='\\t', quoting=csv.QUOTE_NONE, header=None, names=twitter_data_columns)\n",
    "sample_data.head()"
   ]
  },
  {
   "cell_type": "markdown",
   "metadata": {},
   "source": [
    "## 0.3 Data stats\n",
    "\n",
    "***\n",
    "### Total Number of Tweets\n",
    "\n",
    "We have **_8790_** entries in our dataframe and each row contains **_20_** columns."
   ]
  },
  {
   "cell_type": "code",
   "execution_count": 62,
   "metadata": {
    "collapsed": false
   },
   "outputs": [
    {
     "name": "stdout",
     "output_type": "stream",
     "text": [
      "8790\n",
      "20\n"
     ]
    }
   ],
   "source": [
    "print(len(sample_data))\n",
    "print(len(sample_data.columns))"
   ]
  },
  {
   "cell_type": "markdown",
   "metadata": {},
   "source": [
    "### Column formats"
   ]
  },
  {
   "cell_type": "code",
   "execution_count": 63,
   "metadata": {
    "collapsed": false
   },
   "outputs": [
    {
     "data": {
      "text/plain": [
       "id                  int64\n",
       "userId              int64\n",
       "createdAt          object\n",
       "text               object\n",
       "longitude          object\n",
       "latitude           object\n",
       "placeId            object\n",
       "inReplyTo          object\n",
       "source              int64\n",
       "truncated         float64\n",
       "placeLatitude     float64\n",
       "placeLongitude    float64\n",
       "sourceName         object\n",
       "sourceUrl          object\n",
       "userName           object\n",
       "screenName         object\n",
       "followersCount      int64\n",
       "friendsCount        int64\n",
       "statusesCount       int64\n",
       "userLocation       object\n",
       "dtype: object"
      ]
     },
     "execution_count": 63,
     "metadata": {},
     "output_type": "execute_result"
    }
   ],
   "source": [
    "sample_data.dtypes"
   ]
  },
  {
   "cell_type": "markdown",
   "metadata": {},
   "source": [
    "### Column Descriptions\n",
    "We've gathered more detailed dscription of each attribute from the [Twtter API](https://dev.twitter.com/overview/api/users)"
   ]
  },
  {
   "cell_type": "code",
   "execution_count": 64,
   "metadata": {
    "collapsed": false
   },
   "outputs": [
    {
     "data": {
      "text/html": [
       "<div>\n",
       "<table border=\"1\" class=\"dataframe\">\n",
       "  <thead>\n",
       "    <tr style=\"text-align: right;\">\n",
       "      <th></th>\n",
       "      <th>Attribute</th>\n",
       "      <th>Description</th>\n",
       "    </tr>\n",
       "  </thead>\n",
       "  <tbody>\n",
       "    <tr>\n",
       "      <th>1</th>\n",
       "      <td>id</td>\n",
       "      <td>The integer representation of the unique identifier for this Tweet.</td>\n",
       "    </tr>\n",
       "    <tr>\n",
       "      <th>2</th>\n",
       "      <td>userId</td>\n",
       "      <td>The integer representation of the unique identifier for this User.</td>\n",
       "    </tr>\n",
       "    <tr>\n",
       "      <th>3</th>\n",
       "      <td>createdAt</td>\n",
       "      <td>UTC time when this Tweet was created. Example: \"created_at\":\"Wed Aug 27 13:08:45 +0000 2008\"</td>\n",
       "    </tr>\n",
       "    <tr>\n",
       "      <th>4</th>\n",
       "      <td>text</td>\n",
       "      <td>The actual UTF-8 text of the status update.</td>\n",
       "    </tr>\n",
       "    <tr>\n",
       "      <th>5</th>\n",
       "      <td>longitude</td>\n",
       "      <td>Nullable Represents the geographic location of this Tweet as reported by the user or client application.</td>\n",
       "    </tr>\n",
       "    <tr>\n",
       "      <th>6</th>\n",
       "      <td>latitude</td>\n",
       "      <td>Nullable Represents the geographic location of this Tweet as reported by the user or client application.</td>\n",
       "    </tr>\n",
       "    <tr>\n",
       "      <th>7</th>\n",
       "      <td>placeId</td>\n",
       "      <td>ID representing this place. Places are specific, named locations with corresponding geo coordinates. They can be attached to Tweets by specifying a place_id when tweeting. Tweets associated with p...</td>\n",
       "    </tr>\n",
       "    <tr>\n",
       "      <th>8</th>\n",
       "      <td>inReplyTo</td>\n",
       "      <td>Nullable If the represented Tweet is a reply, this field will contain the integer representation of the original Tweet’s ID.</td>\n",
       "    </tr>\n",
       "    <tr>\n",
       "      <th>9</th>\n",
       "      <td>source</td>\n",
       "      <td>None</td>\n",
       "    </tr>\n",
       "    <tr>\n",
       "      <th>10</th>\n",
       "      <td>truncated</td>\n",
       "      <td>Indicates whether the value of the text parameter was truncated, for example, as a result of a retweet exceeding the 140 character Tweet length. Truncated text will end in ellipsis, like this ... ...</td>\n",
       "    </tr>\n",
       "    <tr>\n",
       "      <th>11</th>\n",
       "      <td>placeLatitude</td>\n",
       "      <td>see placeID</td>\n",
       "    </tr>\n",
       "    <tr>\n",
       "      <th>12</th>\n",
       "      <td>placeLongitude</td>\n",
       "      <td>see placeID</td>\n",
       "    </tr>\n",
       "    <tr>\n",
       "      <th>13</th>\n",
       "      <td>sourceName</td>\n",
       "      <td>Name of the utility used to post the Tweet</td>\n",
       "    </tr>\n",
       "    <tr>\n",
       "      <th>14</th>\n",
       "      <td>sourceUrl</td>\n",
       "      <td>Url of the utility used to post the Tweet</td>\n",
       "    </tr>\n",
       "    <tr>\n",
       "      <th>15</th>\n",
       "      <td>userName</td>\n",
       "      <td>The name of the user, as they’ve defined it. Not necessarily a person’s name. Typically capped at 20 characters, but subject to change.</td>\n",
       "    </tr>\n",
       "    <tr>\n",
       "      <th>16</th>\n",
       "      <td>screenName</td>\n",
       "      <td>The screen name, handle, or alias that this user identifies themselves with. screen_names are unique but subject to change. Typically a maximum of 15 characters long, but some historical accounts ...</td>\n",
       "    </tr>\n",
       "    <tr>\n",
       "      <th>17</th>\n",
       "      <td>followersCount</td>\n",
       "      <td>The number of followers this account currently has. Under certain conditions of duress, this field will temporarily indicate “0.”</td>\n",
       "    </tr>\n",
       "    <tr>\n",
       "      <th>18</th>\n",
       "      <td>friendsCount</td>\n",
       "      <td>The number of users this account is following (AKA their “followings”). Under certain conditions of duress, this field will temporarily indicate “0.”</td>\n",
       "    </tr>\n",
       "    <tr>\n",
       "      <th>19</th>\n",
       "      <td>statusesCount</td>\n",
       "      <td>The number of tweets (including retweets) issued by the user.</td>\n",
       "    </tr>\n",
       "    <tr>\n",
       "      <th>20</th>\n",
       "      <td>userLocation</td>\n",
       "      <td>Nullable . The user-defined location for this account’s profile. Not necessarily a location nor parseable. This field will occasionally be fuzzily interpreted by the Search service.</td>\n",
       "    </tr>\n",
       "  </tbody>\n",
       "</table>\n",
       "</div>"
      ],
      "text/plain": [
       "         Attribute  \\\n",
       "1               id   \n",
       "2           userId   \n",
       "3        createdAt   \n",
       "4             text   \n",
       "5        longitude   \n",
       "6         latitude   \n",
       "7          placeId   \n",
       "8        inReplyTo   \n",
       "9           source   \n",
       "10       truncated   \n",
       "11   placeLatitude   \n",
       "12  placeLongitude   \n",
       "13      sourceName   \n",
       "14       sourceUrl   \n",
       "15        userName   \n",
       "16      screenName   \n",
       "17  followersCount   \n",
       "18    friendsCount   \n",
       "19   statusesCount   \n",
       "20    userLocation   \n",
       "\n",
       "                                                                                                                                                                                                Description  \n",
       "1                                                                                                                                       The integer representation of the unique identifier for this Tweet.  \n",
       "2                                                                                                                                        The integer representation of the unique identifier for this User.  \n",
       "3                                                                                                              UTC time when this Tweet was created. Example: \"created_at\":\"Wed Aug 27 13:08:45 +0000 2008\"  \n",
       "4                                                                                                                                                               The actual UTF-8 text of the status update.  \n",
       "5                                                                                                  Nullable Represents the geographic location of this Tweet as reported by the user or client application.  \n",
       "6                                                                                                  Nullable Represents the geographic location of this Tweet as reported by the user or client application.  \n",
       "7   ID representing this place. Places are specific, named locations with corresponding geo coordinates. They can be attached to Tweets by specifying a place_id when tweeting. Tweets associated with p...  \n",
       "8                                                                              Nullable If the represented Tweet is a reply, this field will contain the integer representation of the original Tweet’s ID.  \n",
       "9                                                                                                                                                                                                      None  \n",
       "10  Indicates whether the value of the text parameter was truncated, for example, as a result of a retweet exceeding the 140 character Tweet length. Truncated text will end in ellipsis, like this ... ...  \n",
       "11                                                                                                                                                                                              see placeID  \n",
       "12                                                                                                                                                                                              see placeID  \n",
       "13                                                                                                                                                               Name of the utility used to post the Tweet  \n",
       "14                                                                                                                                                                Url of the utility used to post the Tweet  \n",
       "15                                                                  The name of the user, as they’ve defined it. Not necessarily a person’s name. Typically capped at 20 characters, but subject to change.  \n",
       "16  The screen name, handle, or alias that this user identifies themselves with. screen_names are unique but subject to change. Typically a maximum of 15 characters long, but some historical accounts ...  \n",
       "17                                                                        The number of followers this account currently has. Under certain conditions of duress, this field will temporarily indicate “0.”  \n",
       "18                                                    The number of users this account is following (AKA their “followings”). Under certain conditions of duress, this field will temporarily indicate “0.”  \n",
       "19                                                                                                                                            The number of tweets (including retweets) issued by the user.  \n",
       "20                    Nullable . The user-defined location for this account’s profile. Not necessarily a location nor parseable. This field will occasionally be fuzzily interpreted by the Search service.  "
      ]
     },
     "execution_count": 64,
     "metadata": {},
     "output_type": "execute_result"
    }
   ],
   "source": [
    "data_description = pd.read_csv(\"twitter-swisscom/schema_description.txt\", header=None, names=['Attribute', 'Description'], sep='\\s\\s+', engine='python', index_col=0)\n",
    "data_description"
   ]
  },
  {
   "cell_type": "markdown",
   "metadata": {},
   "source": [
    "### NaN Cells\n",
    "***\n",
    "The **text** column (tweet content) contains NaN Value. We have no choice but to remove them because without the content we won't be able to proceed and perform sentiment analysis. As for **truncated** and **userName**, we don't worry much as truncated is just a flag indicating whether the content is above 140 characters and userId is better and more unique than userName."
   ]
  },
  {
   "cell_type": "code",
   "execution_count": 65,
   "metadata": {
    "collapsed": false
   },
   "outputs": [
    {
     "data": {
      "text/plain": [
       "id                False\n",
       "userId            False\n",
       "createdAt         False\n",
       "text               True\n",
       "longitude         False\n",
       "latitude          False\n",
       "placeId           False\n",
       "inReplyTo         False\n",
       "source            False\n",
       "truncated          True\n",
       "placeLatitude     False\n",
       "placeLongitude    False\n",
       "sourceName        False\n",
       "sourceUrl         False\n",
       "userName           True\n",
       "screenName        False\n",
       "followersCount    False\n",
       "friendsCount      False\n",
       "statusesCount     False\n",
       "userLocation      False\n",
       "dtype: bool"
      ]
     },
     "execution_count": 65,
     "metadata": {},
     "output_type": "execute_result"
    }
   ],
   "source": [
    "sample_data.isnull().any()"
   ]
  },
  {
   "cell_type": "code",
   "execution_count": 66,
   "metadata": {
    "collapsed": false
   },
   "outputs": [],
   "source": [
    "# Create a true/false list then map to the original dataframe\n",
    "NaN_text = sample_data.text.isnull()\n",
    "sample_data = sample_data[~ NaN_text]"
   ]
  },
  {
   "cell_type": "code",
   "execution_count": 67,
   "metadata": {
    "collapsed": false
   },
   "outputs": [
    {
     "name": "stdout",
     "output_type": "stream",
     "text": [
      "Number of entries missing content -  93\n",
      "Entries in sample_data dataframe -  8697\n",
      "Percentage of missing data 0.010580204778156996\n"
     ]
    }
   ],
   "source": [
    "print(\"Number of entries missing content - \", NaN_text.sum())\n",
    "print(\"Entries in sample_data dataframe - \", sample_data.text.count())\n",
    "print(\"Percentage of missing data\", 93/8790)"
   ]
  },
  {
   "cell_type": "markdown",
   "metadata": {},
   "source": [
    "### Number of Users in Sample Data\n",
    "***\n",
    "\n",
    "All **8697** entries in our dataframe have an unique id. However there are **2739** unique users in our data. "
   ]
  },
  {
   "cell_type": "code",
   "execution_count": 68,
   "metadata": {
    "collapsed": false
   },
   "outputs": [
    {
     "name": "stdout",
     "output_type": "stream",
     "text": [
      "Percentage of 2739(users) / 8697(tweets) = 0.31493618489134184\n"
     ]
    }
   ],
   "source": [
    "total_tweets = len(pd.unique(sample_data.id.ravel()))\n",
    "total_unique_user = len(pd.unique(sample_data.userId.ravel()))\n",
    "\n",
    "print(\"Percentage of {}(users) / {}(tweets) = {}\".format(total_unique_user, total_tweets, total_unique_user/total_tweets))"
   ]
  },
  {
   "cell_type": "markdown",
   "metadata": {
    "collapsed": true
   },
   "source": [
    "### Number of Tweets per User \n",
    "***"
   ]
  },
  {
   "cell_type": "code",
   "execution_count": 69,
   "metadata": {
    "collapsed": false
   },
   "outputs": [],
   "source": [
    "def f(x):\n",
    "    return Series(dict(Number_of_tweets = x['text'].count(),\n",
    "                       User_name = x['userName'].min(),\n",
    "                       tweet_id = x['id'].min(),\n",
    "                       ))"
   ]
  },
  {
   "cell_type": "code",
   "execution_count": 70,
   "metadata": {
    "collapsed": false
   },
   "outputs": [
    {
     "data": {
      "text/html": [
       "<div>\n",
       "<table border=\"1\" class=\"dataframe\">\n",
       "  <thead>\n",
       "    <tr style=\"text-align: right;\">\n",
       "      <th></th>\n",
       "      <th>Number_of_tweets</th>\n",
       "      <th>User_name</th>\n",
       "      <th>tweet_id</th>\n",
       "    </tr>\n",
       "    <tr>\n",
       "      <th>userId</th>\n",
       "      <th></th>\n",
       "      <th></th>\n",
       "      <th></th>\n",
       "    </tr>\n",
       "  </thead>\n",
       "  <tbody>\n",
       "    <tr>\n",
       "      <th>766674630014857217</th>\n",
       "      <td>217.0</td>\n",
       "      <td>Poke Luzern</td>\n",
       "      <td>7.765256e+17</td>\n",
       "    </tr>\n",
       "    <tr>\n",
       "      <th>758247740019126272</th>\n",
       "      <td>186.0</td>\n",
       "      <td>ElnellaFeverOfficial</td>\n",
       "      <td>7.765501e+17</td>\n",
       "    </tr>\n",
       "    <tr>\n",
       "      <th>735449229028675584</th>\n",
       "      <td>111.0</td>\n",
       "      <td>plvtone filiae.</td>\n",
       "      <td>7.765230e+17</td>\n",
       "    </tr>\n",
       "    <tr>\n",
       "      <th>570608126</th>\n",
       "      <td>93.0</td>\n",
       "      <td>Hervé M</td>\n",
       "      <td>7.766640e+17</td>\n",
       "    </tr>\n",
       "    <tr>\n",
       "      <th>866661589</th>\n",
       "      <td>89.0</td>\n",
       "      <td>ana</td>\n",
       "      <td>7.765258e+17</td>\n",
       "    </tr>\n",
       "  </tbody>\n",
       "</table>\n",
       "</div>"
      ],
      "text/plain": [
       "                    Number_of_tweets             User_name      tweet_id\n",
       "userId                                                                  \n",
       "766674630014857217             217.0           Poke Luzern  7.765256e+17\n",
       "758247740019126272             186.0  ElnellaFeverOfficial  7.765501e+17\n",
       "735449229028675584             111.0       plvtone filiae.  7.765230e+17\n",
       "570608126                       93.0               Hervé M  7.766640e+17\n",
       "866661589                       89.0                   ana  7.765258e+17"
      ]
     },
     "execution_count": 70,
     "metadata": {},
     "output_type": "execute_result"
    }
   ],
   "source": [
    "tweet_count = sample_data.groupby('userId').apply(f)\n",
    "tweet_count = tweet_count.sort_values('Number_of_tweets', axis=0, ascending=False)\n",
    "tweet_count.head()"
   ]
  },
  {
   "cell_type": "markdown",
   "metadata": {},
   "source": [
    "#### *Observation*\n",
    "\n",
    "More than 50% of the user only had 1 tweet in our sample data, total avg is 3 tweets per user."
   ]
  },
  {
   "cell_type": "code",
   "execution_count": 71,
   "metadata": {
    "collapsed": false
   },
   "outputs": [
    {
     "data": {
      "text/plain": [
       "count    2739.000000\n",
       "mean        3.175246\n",
       "std         8.318616\n",
       "min         1.000000\n",
       "25%         1.000000\n",
       "50%         1.000000\n",
       "75%         3.000000\n",
       "max       217.000000\n",
       "Name: Number_of_tweets, dtype: float64"
      ]
     },
     "execution_count": 71,
     "metadata": {},
     "output_type": "execute_result"
    }
   ],
   "source": [
    "tweet_count.Number_of_tweets.describe()"
   ]
  },
  {
   "cell_type": "markdown",
   "metadata": {},
   "source": [
    "### Convert 'createdAt' to datetime type\n",
    "***\n",
    "\n",
    "The **createdAt** column is of type String and contains the UTC time when this Tweet was created. However we want to convert this to the datatime Python type for the ease of manipulation in future analysis."
   ]
  },
  {
   "cell_type": "code",
   "execution_count": 72,
   "metadata": {
    "collapsed": false
   },
   "outputs": [
    {
     "data": {
      "text/plain": [
       "id            int64\n",
       "userId        int64\n",
       "createdAt    object\n",
       "dtype: object"
      ]
     },
     "execution_count": 72,
     "metadata": {},
     "output_type": "execute_result"
    }
   ],
   "source": [
    "sample_data.dtypes[:3]"
   ]
  },
  {
   "cell_type": "code",
   "execution_count": 73,
   "metadata": {
    "collapsed": false
   },
   "outputs": [
    {
     "data": {
      "text/plain": [
       "id                    int64\n",
       "userId                int64\n",
       "createdAt    datetime64[ns]\n",
       "dtype: object"
      ]
     },
     "execution_count": 73,
     "metadata": {},
     "output_type": "execute_result"
    }
   ],
   "source": [
    "# Convert the type\n",
    "sample_data['createdAt'] = pd.to_datetime(sample_data['createdAt'])\n",
    "sample_data.dtypes[:3]"
   ]
  },
  {
   "cell_type": "code",
   "execution_count": 74,
   "metadata": {
    "collapsed": false
   },
   "outputs": [],
   "source": [
    "# We can now sort our dataframe based on createdAt column\n",
    "sample_data = sample_data.sort_values('createdAt', axis=0, ascending=False)"
   ]
  },
  {
   "cell_type": "code",
   "execution_count": 75,
   "metadata": {
    "collapsed": false
   },
   "outputs": [
    {
     "data": {
      "text/plain": [
       "count                    8697\n",
       "unique                   8070\n",
       "top       2016-09-16 08:25:00\n",
       "freq                        4\n",
       "first     2016-09-15 20:48:01\n",
       "last      2016-09-16 16:35:19\n",
       "Name: createdAt, dtype: object"
      ]
     },
     "execution_count": 75,
     "metadata": {},
     "output_type": "execute_result"
    }
   ],
   "source": [
    "sample_data.createdAt.describe()"
   ]
  },
  {
   "cell_type": "markdown",
   "metadata": {},
   "source": [
    "#### *Observation*\n",
    "\n",
    "There are *8070* unique datatimes in our dataframe, and all of our tweets are created between *2016-09-15 20:48:01* and *2016-09-16 08:25:00*"
   ]
  },
  {
   "cell_type": "markdown",
   "metadata": {},
   "source": [
    "### Remove Urls from tweets\n",
    "***\n",
    "\n",
    "We want to remove urls from the content of the tweet because it gives us no information about the sentiment and the package we use to detect what language the tweet is written can't process a single url as the text has no feature to analyse."
   ]
  },
  {
   "cell_type": "code",
   "execution_count": 76,
   "metadata": {
    "collapsed": false
   },
   "outputs": [],
   "source": [
    "for index, row in sample_data.iterrows():\n",
    "    # match url in string and replace with \"\" empty string\n",
    "    t = re.sub(r\"http\\S+\", \"\", row['text'])\n",
    "    if (t.strip() == \"\"): # remove the row if the result is empty after stripping\n",
    "        sample_data = sample_data.drop(index)\n",
    "    else:\n",
    "        sample_data.set_value(index, \"text\", t)"
   ]
  },
  {
   "cell_type": "markdown",
   "metadata": {},
   "source": [
    "#### *Observation*\n",
    "\n",
    "From our inspection, most urls are removed from the tweet. As a result we have shrunk the dataset to *8556* entries. **Note**: Although Urls don't contain any feature for sentiment analysis, but it could be the link to connect different tweets together (different user discussing/expressing their thought about the same topic)"
   ]
  },
  {
   "cell_type": "markdown",
   "metadata": {},
   "source": [
    "### Language Usage\n",
    "***\n",
    "\n",
    "We use [langdetect](https://pypi.python.org/pypi/langdetect) python package to determine what language is used for the tweet. Of course come tweets are written in multiple languages, this library returns the most probable language after analysis."
   ]
  },
  {
   "cell_type": "code",
   "execution_count": 144,
   "metadata": {
    "collapsed": false
   },
   "outputs": [
    {
     "data": {
      "text/plain": [
       "8556"
      ]
     },
     "execution_count": 144,
     "metadata": {},
     "output_type": "execute_result"
    }
   ],
   "source": [
    "TOTAL_ENTRIES = len(sample_data)\n",
    "\n",
    "TOTAL_ENTRIES"
   ]
  },
  {
   "cell_type": "code",
   "execution_count": 78,
   "metadata": {
    "collapsed": false
   },
   "outputs": [],
   "source": [
    "sample_data['language'] = ''\n",
    "\n",
    "for index, row in sample_data.iterrows():\n",
    "    lang = \"None\"\n",
    "    try:\n",
    "        lang = detect(row['text'])\n",
    "    except:\n",
    "        pass\n",
    "    sample_data.set_value(index, \"language\", lang)"
   ]
  },
  {
   "cell_type": "code",
   "execution_count": 140,
   "metadata": {
    "collapsed": true
   },
   "outputs": [],
   "source": [
    "def d(x):\n",
    "    return Series(dict(Number_of_tweets = x['text'].count(),\n",
    "                       Percentage = x['text'].count() / TOTAL_ENTRIES * 100,\n",
    "                       ))"
   ]
  },
  {
   "cell_type": "code",
   "execution_count": 143,
   "metadata": {
    "collapsed": false
   },
   "outputs": [
    {
     "data": {
      "text/html": [
       "<div>\n",
       "<table border=\"1\" class=\"dataframe\">\n",
       "  <thead>\n",
       "    <tr style=\"text-align: right;\">\n",
       "      <th></th>\n",
       "      <th>Number_of_tweets</th>\n",
       "      <th>Percentage</th>\n",
       "    </tr>\n",
       "    <tr>\n",
       "      <th>language</th>\n",
       "      <th></th>\n",
       "      <th></th>\n",
       "    </tr>\n",
       "  </thead>\n",
       "  <tbody>\n",
       "    <tr>\n",
       "      <th>en</th>\n",
       "      <td>2391.0</td>\n",
       "      <td>27.945302</td>\n",
       "    </tr>\n",
       "    <tr>\n",
       "      <th>fr</th>\n",
       "      <td>1680.0</td>\n",
       "      <td>19.635344</td>\n",
       "    </tr>\n",
       "    <tr>\n",
       "      <th>de</th>\n",
       "      <td>1197.0</td>\n",
       "      <td>13.990182</td>\n",
       "    </tr>\n",
       "    <tr>\n",
       "      <th>it</th>\n",
       "      <td>774.0</td>\n",
       "      <td>9.046283</td>\n",
       "    </tr>\n",
       "    <tr>\n",
       "      <th>ar</th>\n",
       "      <td>383.0</td>\n",
       "      <td>4.476391</td>\n",
       "    </tr>\n",
       "    <tr>\n",
       "      <th>es</th>\n",
       "      <td>327.0</td>\n",
       "      <td>3.821879</td>\n",
       "    </tr>\n",
       "    <tr>\n",
       "      <th>pt</th>\n",
       "      <td>251.0</td>\n",
       "      <td>2.933614</td>\n",
       "    </tr>\n",
       "    <tr>\n",
       "      <th>tr</th>\n",
       "      <td>161.0</td>\n",
       "      <td>1.881720</td>\n",
       "    </tr>\n",
       "    <tr>\n",
       "      <th>id</th>\n",
       "      <td>140.0</td>\n",
       "      <td>1.636279</td>\n",
       "    </tr>\n",
       "    <tr>\n",
       "      <th>nl</th>\n",
       "      <td>124.0</td>\n",
       "      <td>1.449275</td>\n",
       "    </tr>\n",
       "    <tr>\n",
       "      <th>so</th>\n",
       "      <td>114.0</td>\n",
       "      <td>1.332398</td>\n",
       "    </tr>\n",
       "    <tr>\n",
       "      <th>no</th>\n",
       "      <td>92.0</td>\n",
       "      <td>1.075269</td>\n",
       "    </tr>\n",
       "    <tr>\n",
       "      <th>tl</th>\n",
       "      <td>86.0</td>\n",
       "      <td>1.005143</td>\n",
       "    </tr>\n",
       "    <tr>\n",
       "      <th>ca</th>\n",
       "      <td>78.0</td>\n",
       "      <td>0.911641</td>\n",
       "    </tr>\n",
       "    <tr>\n",
       "      <th>ja</th>\n",
       "      <td>77.0</td>\n",
       "      <td>0.899953</td>\n",
       "    </tr>\n",
       "    <tr>\n",
       "      <th>af</th>\n",
       "      <td>75.0</td>\n",
       "      <td>0.876578</td>\n",
       "    </tr>\n",
       "    <tr>\n",
       "      <th>ru</th>\n",
       "      <td>70.0</td>\n",
       "      <td>0.818139</td>\n",
       "    </tr>\n",
       "    <tr>\n",
       "      <th>sv</th>\n",
       "      <td>58.0</td>\n",
       "      <td>0.677887</td>\n",
       "    </tr>\n",
       "    <tr>\n",
       "      <th>et</th>\n",
       "      <td>51.0</td>\n",
       "      <td>0.596073</td>\n",
       "    </tr>\n",
       "    <tr>\n",
       "      <th>da</th>\n",
       "      <td>41.0</td>\n",
       "      <td>0.479196</td>\n",
       "    </tr>\n",
       "    <tr>\n",
       "      <th>fi</th>\n",
       "      <td>37.0</td>\n",
       "      <td>0.432445</td>\n",
       "    </tr>\n",
       "    <tr>\n",
       "      <th>ro</th>\n",
       "      <td>35.0</td>\n",
       "      <td>0.409070</td>\n",
       "    </tr>\n",
       "    <tr>\n",
       "      <th>cy</th>\n",
       "      <td>34.0</td>\n",
       "      <td>0.397382</td>\n",
       "    </tr>\n",
       "    <tr>\n",
       "      <th>None</th>\n",
       "      <td>34.0</td>\n",
       "      <td>0.397382</td>\n",
       "    </tr>\n",
       "    <tr>\n",
       "      <th>pl</th>\n",
       "      <td>30.0</td>\n",
       "      <td>0.350631</td>\n",
       "    </tr>\n",
       "    <tr>\n",
       "      <th>sw</th>\n",
       "      <td>29.0</td>\n",
       "      <td>0.338943</td>\n",
       "    </tr>\n",
       "    <tr>\n",
       "      <th>sl</th>\n",
       "      <td>24.0</td>\n",
       "      <td>0.280505</td>\n",
       "    </tr>\n",
       "    <tr>\n",
       "      <th>vi</th>\n",
       "      <td>19.0</td>\n",
       "      <td>0.222066</td>\n",
       "    </tr>\n",
       "    <tr>\n",
       "      <th>hr</th>\n",
       "      <td>19.0</td>\n",
       "      <td>0.222066</td>\n",
       "    </tr>\n",
       "    <tr>\n",
       "      <th>fa</th>\n",
       "      <td>19.0</td>\n",
       "      <td>0.222066</td>\n",
       "    </tr>\n",
       "    <tr>\n",
       "      <th>th</th>\n",
       "      <td>16.0</td>\n",
       "      <td>0.187003</td>\n",
       "    </tr>\n",
       "    <tr>\n",
       "      <th>lt</th>\n",
       "      <td>15.0</td>\n",
       "      <td>0.175316</td>\n",
       "    </tr>\n",
       "    <tr>\n",
       "      <th>hu</th>\n",
       "      <td>15.0</td>\n",
       "      <td>0.175316</td>\n",
       "    </tr>\n",
       "    <tr>\n",
       "      <th>sq</th>\n",
       "      <td>12.0</td>\n",
       "      <td>0.140252</td>\n",
       "    </tr>\n",
       "    <tr>\n",
       "      <th>sk</th>\n",
       "      <td>11.0</td>\n",
       "      <td>0.128565</td>\n",
       "    </tr>\n",
       "    <tr>\n",
       "      <th>lv</th>\n",
       "      <td>10.0</td>\n",
       "      <td>0.116877</td>\n",
       "    </tr>\n",
       "    <tr>\n",
       "      <th>mk</th>\n",
       "      <td>8.0</td>\n",
       "      <td>0.093502</td>\n",
       "    </tr>\n",
       "    <tr>\n",
       "      <th>cs</th>\n",
       "      <td>7.0</td>\n",
       "      <td>0.081814</td>\n",
       "    </tr>\n",
       "    <tr>\n",
       "      <th>bg</th>\n",
       "      <td>4.0</td>\n",
       "      <td>0.046751</td>\n",
       "    </tr>\n",
       "    <tr>\n",
       "      <th>el</th>\n",
       "      <td>2.0</td>\n",
       "      <td>0.023375</td>\n",
       "    </tr>\n",
       "    <tr>\n",
       "      <th>uk</th>\n",
       "      <td>2.0</td>\n",
       "      <td>0.023375</td>\n",
       "    </tr>\n",
       "    <tr>\n",
       "      <th>ur</th>\n",
       "      <td>2.0</td>\n",
       "      <td>0.023375</td>\n",
       "    </tr>\n",
       "    <tr>\n",
       "      <th>he</th>\n",
       "      <td>1.0</td>\n",
       "      <td>0.011688</td>\n",
       "    </tr>\n",
       "    <tr>\n",
       "      <th>ko</th>\n",
       "      <td>1.0</td>\n",
       "      <td>0.011688</td>\n",
       "    </tr>\n",
       "  </tbody>\n",
       "</table>\n",
       "</div>"
      ],
      "text/plain": [
       "          Number_of_tweets  Percentage\n",
       "language                              \n",
       "en                  2391.0   27.945302\n",
       "fr                  1680.0   19.635344\n",
       "de                  1197.0   13.990182\n",
       "it                   774.0    9.046283\n",
       "ar                   383.0    4.476391\n",
       "es                   327.0    3.821879\n",
       "pt                   251.0    2.933614\n",
       "tr                   161.0    1.881720\n",
       "id                   140.0    1.636279\n",
       "nl                   124.0    1.449275\n",
       "so                   114.0    1.332398\n",
       "no                    92.0    1.075269\n",
       "tl                    86.0    1.005143\n",
       "ca                    78.0    0.911641\n",
       "ja                    77.0    0.899953\n",
       "af                    75.0    0.876578\n",
       "ru                    70.0    0.818139\n",
       "sv                    58.0    0.677887\n",
       "et                    51.0    0.596073\n",
       "da                    41.0    0.479196\n",
       "fi                    37.0    0.432445\n",
       "ro                    35.0    0.409070\n",
       "cy                    34.0    0.397382\n",
       "None                  34.0    0.397382\n",
       "pl                    30.0    0.350631\n",
       "sw                    29.0    0.338943\n",
       "sl                    24.0    0.280505\n",
       "vi                    19.0    0.222066\n",
       "hr                    19.0    0.222066\n",
       "fa                    19.0    0.222066\n",
       "th                    16.0    0.187003\n",
       "lt                    15.0    0.175316\n",
       "hu                    15.0    0.175316\n",
       "sq                    12.0    0.140252\n",
       "sk                    11.0    0.128565\n",
       "lv                    10.0    0.116877\n",
       "mk                     8.0    0.093502\n",
       "cs                     7.0    0.081814\n",
       "bg                     4.0    0.046751\n",
       "el                     2.0    0.023375\n",
       "uk                     2.0    0.023375\n",
       "ur                     2.0    0.023375\n",
       "he                     1.0    0.011688\n",
       "ko                     1.0    0.011688"
      ]
     },
     "execution_count": 143,
     "metadata": {},
     "output_type": "execute_result"
    }
   ],
   "source": [
    "lang_usage = sample_data.groupby('language').apply(d).sort_values('Percentage', axis=0, ascending=False)\n",
    "\n",
    "lang_usage"
   ]
  },
  {
   "cell_type": "markdown",
   "metadata": {},
   "source": [
    "#### *Observation*\n",
    "\n",
    "**English** is the most used language written ***27.9%*** of total tweets followed by ***19.6%*** of **French**, ***13.9%*** of **German**, ***9.0%*** of **Italian**, ***4.4%*** of **Arabic** and ***3.8%*** of **Spanish**. "
   ]
  },
  {
   "cell_type": "markdown",
   "metadata": {},
   "source": [
    "### 0.3.1 Percentage with geolocation"
   ]
  },
  {
   "cell_type": "code",
   "execution_count": null,
   "metadata": {
    "collapsed": false
   },
   "outputs": [],
   "source": [
    "long = sample_data.longitude\n",
    "long_not_null = (long != r'\\N').sum()\n",
    "print(\"Percentage of data with longitude info:\", 100*(long_not_null/len(sample_data)))\n",
    "print(\"Nbr: \", long_not_null)"
   ]
  },
  {
   "cell_type": "code",
   "execution_count": null,
   "metadata": {
    "collapsed": false
   },
   "outputs": [],
   "source": [
    "lat = sample_data.latitude\n",
    "lat_not_null = (lat != r'\\N').sum()\n",
    "print(\"Percentage of data with latitude info:\", 100*(lat_not_null/len(sample_data)))\n",
    "print(\"Nbr: \", lat_not_null)"
   ]
  },
  {
   "cell_type": "code",
   "execution_count": null,
   "metadata": {
    "collapsed": false
   },
   "outputs": [],
   "source": [
    "long_not_null = long!=r'\\N'\n",
    "lat_not_null = lat!=r'\\N'\n",
    "diff = (long_not_null != lat_not_null).any()\n",
    "print(\"Is there null long/lat with valid lat/long ? :\", diff)"
   ]
  },
  {
   "cell_type": "markdown",
   "metadata": {},
   "source": [
    "That's for the latitude/longitude... what ? The user ? \n",
    "Because we also have the fields ***placeLongitude*** and ***placeLatitude***.\n",
    "\n",
    "From the twitter api:\n",
    "> Places are specific, named locations with corresponding geo coordinates. They can be attached to Tweets by specifying a place_id when tweeting. Tweets associated with places are not necessarily issued from that location but could also potentially be about that location.\n",
    "\n",
    "Since we want to map the sentiment of tweet with a given location, we will use fields ***placeLongitude*** and ***placeLatitude*** for this project."
   ]
  },
  {
   "cell_type": "code",
   "execution_count": null,
   "metadata": {
    "collapsed": false
   },
   "outputs": [],
   "source": [
    "xx = sample_data.groupby(['placeId']).size()\n",
    "xx.sort(ascending=False)\n",
    "xx"
   ]
  },
  {
   "cell_type": "code",
   "execution_count": null,
   "metadata": {
    "collapsed": true
   },
   "outputs": [],
   "source": []
  },
  {
   "cell_type": "code",
   "execution_count": null,
   "metadata": {
    "collapsed": true
   },
   "outputs": [],
   "source": []
  },
  {
   "cell_type": "code",
   "execution_count": null,
   "metadata": {
    "collapsed": true
   },
   "outputs": [],
   "source": []
  },
  {
   "cell_type": "code",
   "execution_count": null,
   "metadata": {
    "collapsed": true
   },
   "outputs": [],
   "source": []
  },
  {
   "cell_type": "code",
   "execution_count": null,
   "metadata": {
    "collapsed": true
   },
   "outputs": [],
   "source": []
  }
 ],
 "metadata": {
  "anaconda-cloud": {},
  "kernelspec": {
   "display_name": "Python 3",
   "language": "python",
   "name": "python3"
  },
  "language_info": {
   "codemirror_mode": {
    "name": "ipython",
    "version": 3
   },
   "file_extension": ".py",
   "mimetype": "text/x-python",
   "name": "python",
   "nbconvert_exporter": "python",
   "pygments_lexer": "ipython3",
   "version": "3.6.0"
  },
  "toc": {
   "nav_menu": {
    "height": "120px",
    "width": "252px"
   },
   "navigate_menu": true,
   "number_sections": false,
   "sideBar": true,
   "threshold": 4,
   "toc_cell": true,
   "toc_section_display": "none",
   "toc_window_display": false
  }
 },
 "nbformat": 4,
 "nbformat_minor": 1
}
