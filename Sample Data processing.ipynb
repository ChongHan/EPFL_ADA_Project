{
 "cells": [
  {
   "cell_type": "code",
   "execution_count": null,
   "metadata": {
    "collapsed": true
   },
   "outputs": [],
   "source": [
    "# ADA Project: Tweet sentiments classification"
   ]
  },
  {
   "cell_type": "markdown",
   "metadata": {},
   "source": [
    "# Purpose of this notebook: \n",
    "Before diving to the huge daasets provided by Swisscom, need to understand it and understand want we want to do with it. So we will use this notebook with a small sample of the datasets, to simulate the steps of our project. The final goal is to create a python scipt, so we just need to launch it on the cluster to obtain the desired results."
   ]
  },
  {
   "cell_type": "code",
   "execution_count": 2,
   "metadata": {
    "collapsed": true
   },
   "outputs": [],
   "source": [
    "import pandas as pd"
   ]
  },
  {
   "cell_type": "markdown",
   "metadata": {},
   "source": [
    "# 0. Data exploration"
   ]
  },
  {
   "cell_type": "markdown",
   "metadata": {},
   "source": [
    "## 0.1 Start by loading the schema of the data.\n",
    "\n",
    "Note that *schema.txt* file given in the epfl cluster was manually modified in order to import it easily with pandas."
   ]
  },
  {
   "cell_type": "code",
   "execution_count": 3,
   "metadata": {
    "collapsed": false
   },
   "outputs": [
    {
     "name": "stdout",
     "output_type": "stream",
     "text": [
      "Nbr features: 20\n"
     ]
    },
    {
     "data": {
      "text/plain": [
       "['id',\n",
       " 'userId',\n",
       " 'createdAt',\n",
       " 'text',\n",
       " 'longitude',\n",
       " 'latitude',\n",
       " 'placeId',\n",
       " 'inReplyTo',\n",
       " 'source',\n",
       " 'truncated',\n",
       " 'placeLatitude',\n",
       " 'placeLongitude',\n",
       " 'sourceName',\n",
       " 'sourceUrl',\n",
       " 'userName',\n",
       " 'screenName',\n",
       " 'followersCount',\n",
       " 'friendsCount',\n",
       " 'statusesCount',\n",
       " 'userLocation']"
      ]
     },
     "execution_count": 3,
     "metadata": {},
     "output_type": "execute_result"
    }
   ],
   "source": [
    "schema_rawfile = pd.read_csv(\"twitter-swisscom/schema_home.txt\", header=None, sep='\\s+')\n",
    "twitter_data_columns = schema_rawfile[1].values\n",
    "print(\"Nbr features:\",len(twitter_data_columns))\n",
    "list(twitter_data_columns)"
   ]
  },
  {
   "cell_type": "code",
   "execution_count": 4,
   "metadata": {
    "collapsed": false
   },
   "outputs": [],
   "source": [
    "data_columns = schema_rawfile[1].values"
   ]
  },
  {
   "cell_type": "markdown",
   "metadata": {},
   "source": [
    "## 0.2 Import sample of the data\n",
    "\n",
    "We will not work directly with the entire datasets. Instead, we prepare our code and function here, with a small sample of the data. Then we create a script to be executed in the EPFL cluster."
   ]
  },
  {
   "cell_type": "markdown",
   "metadata": {},
   "source": [
    "**First step:** \"Clean\" the tsv file. The files we are given are in a *.tsv* format: there is one tweet per line and each features within a tweet are separated by a tab. Unfortunately, some tweets text contain break line (*\\n*). If we try to import them like that, python will take those break line *\\n* as a new line, therefore as a new tweet. \n",
    "\n",
    "But the break line inside the tweets are preceed by a backslash. Therefore, we run a bash command to replace all combination of *\\ + \\n* by a simple white space.\n",
    "\n",
    ">     sed -e :a -e '/\\\\$/N; s/\\\\\\n/ /; ta' twitter-swisscom/sample.tsv  > data_clean/sample.tsv"
   ]
  },
  {
   "cell_type": "markdown",
   "metadata": {},
   "source": [
    "**Second step**: The file *data_clean/sample.tsv* has the following attributes:\n",
    "\n",
    "    *application/octet-stream; charset=binary*\n",
    "\n",
    "Therefore, we cannot load it *as is* into a pandas Dataframe. We will convert it to a simple *text/plain* with encoding *utf-8*, that pandas can perfectly handle.\n",
    "\n",
    ">     cat data_clean/sample.tsv | tr -d '\\0' > data_clean/sample_formatted.tsv"
   ]
  },
  {
   "cell_type": "markdown",
   "metadata": {},
   "source": [
    "**Third step**: Now we can import the data to a pandas dataframe."
   ]
  },
  {
   "cell_type": "code",
   "execution_count": 149,
   "metadata": {
    "collapsed": false
   },
   "outputs": [
    {
     "data": {
      "text/html": [
       "<div>\n",
       "<table border=\"1\" class=\"dataframe\">\n",
       "  <thead>\n",
       "    <tr style=\"text-align: right;\">\n",
       "      <th></th>\n",
       "      <th>userId</th>\n",
       "      <th>createdAt</th>\n",
       "      <th>text</th>\n",
       "      <th>longitude</th>\n",
       "      <th>latitude</th>\n",
       "      <th>placeId</th>\n",
       "      <th>inReplyTo</th>\n",
       "      <th>source</th>\n",
       "      <th>truncated</th>\n",
       "      <th>placeLatitude</th>\n",
       "      <th>placeLongitude</th>\n",
       "      <th>sourceName</th>\n",
       "      <th>sourceUrl</th>\n",
       "      <th>userName</th>\n",
       "      <th>screenName</th>\n",
       "      <th>followersCount</th>\n",
       "      <th>friendsCount</th>\n",
       "      <th>statusesCount</th>\n",
       "      <th>userLocation</th>\n",
       "    </tr>\n",
       "    <tr>\n",
       "      <th>id</th>\n",
       "      <th></th>\n",
       "      <th></th>\n",
       "      <th></th>\n",
       "      <th></th>\n",
       "      <th></th>\n",
       "      <th></th>\n",
       "      <th></th>\n",
       "      <th></th>\n",
       "      <th></th>\n",
       "      <th></th>\n",
       "      <th></th>\n",
       "      <th></th>\n",
       "      <th></th>\n",
       "      <th></th>\n",
       "      <th></th>\n",
       "      <th></th>\n",
       "      <th></th>\n",
       "      <th></th>\n",
       "      <th></th>\n",
       "    </tr>\n",
       "  </thead>\n",
       "  <tbody>\n",
       "    <tr>\n",
       "      <th>776522983837954049</th>\n",
       "      <td>735449229028675584</td>\n",
       "      <td>2016-09-15 20:48:01</td>\n",
       "      <td>se lo dici tu... https://t.co/x7Qm1VHBKL</td>\n",
       "      <td>\\N</td>\n",
       "      <td>\\N</td>\n",
       "      <td>51c0e6b24c64e54e</td>\n",
       "      <td>\\N</td>\n",
       "      <td>1</td>\n",
       "      <td>NaN</td>\n",
       "      <td>46.0027</td>\n",
       "      <td>8.96044</td>\n",
       "      <td>Twitter for iPhone</td>\n",
       "      <td>http://twitter.com/#!/download/iphone</td>\n",
       "      <td>plvtone filiae.</td>\n",
       "      <td>hazel_chb</td>\n",
       "      <td>146</td>\n",
       "      <td>110</td>\n",
       "      <td>28621</td>\n",
       "      <td>Earleen.</td>\n",
       "    </tr>\n",
       "    <tr>\n",
       "      <th>776523000636203010</th>\n",
       "      <td>2741685639</td>\n",
       "      <td>2016-09-15 20:48:05</td>\n",
       "      <td>https://t.co/noYrTnqmg9</td>\n",
       "      <td>\\N</td>\n",
       "      <td>\\N</td>\n",
       "      <td>4e7c21fd2af027c6</td>\n",
       "      <td>\\N</td>\n",
       "      <td>1</td>\n",
       "      <td>NaN</td>\n",
       "      <td>46.8131</td>\n",
       "      <td>8.22414</td>\n",
       "      <td>Twitter for iPhone</td>\n",
       "      <td>http://twitter.com/#!/download/iphone</td>\n",
       "      <td>samara</td>\n",
       "      <td>letisieg</td>\n",
       "      <td>755</td>\n",
       "      <td>2037</td>\n",
       "      <td>3771</td>\n",
       "      <td>Suisse</td>\n",
       "    </tr>\n",
       "    <tr>\n",
       "      <th>776523045200691200</th>\n",
       "      <td>435239151</td>\n",
       "      <td>2016-09-15 20:48:15</td>\n",
       "      <td>@BesacTof @Leonid_CCCP Tu dois t'engager en si...</td>\n",
       "      <td>\\N</td>\n",
       "      <td>\\N</td>\n",
       "      <td>12eb9b254faf37a3</td>\n",
       "      <td>776522113859608576</td>\n",
       "      <td>5</td>\n",
       "      <td>NaN</td>\n",
       "      <td>47.2010</td>\n",
       "      <td>5.94082</td>\n",
       "      <td>Twitter for Android</td>\n",
       "      <td>http://twitter.com/download/android</td>\n",
       "      <td>lebrübrü❤</td>\n",
       "      <td>lebrubru</td>\n",
       "      <td>811</td>\n",
       "      <td>595</td>\n",
       "      <td>30191</td>\n",
       "      <td>Fontain</td>\n",
       "    </tr>\n",
       "    <tr>\n",
       "      <th>776523058404290560</th>\n",
       "      <td>503244217</td>\n",
       "      <td>2016-09-15 20:48:18</td>\n",
       "      <td>@Mno0or_Abyat اشوف مظاهرات على قانون العمل الج...</td>\n",
       "      <td>\\N</td>\n",
       "      <td>\\N</td>\n",
       "      <td>30bcd7f767b4041e</td>\n",
       "      <td>776521597515624448</td>\n",
       "      <td>1</td>\n",
       "      <td>NaN</td>\n",
       "      <td>45.8011</td>\n",
       "      <td>6.16552</td>\n",
       "      <td>Twitter for iPhone</td>\n",
       "      <td>http://twitter.com/#!/download/iphone</td>\n",
       "      <td>عبدالله القنيص</td>\n",
       "      <td>bingnais</td>\n",
       "      <td>28433</td>\n",
       "      <td>417</td>\n",
       "      <td>12262</td>\n",
       "      <td>Shargeyah</td>\n",
       "    </tr>\n",
       "    <tr>\n",
       "      <th>776523058504925185</th>\n",
       "      <td>452805259</td>\n",
       "      <td>2016-09-15 20:48:18</td>\n",
       "      <td>Greek night #geneve (@ Emilios in Genève) http...</td>\n",
       "      <td>6.14414</td>\n",
       "      <td>46.1966</td>\n",
       "      <td>c3a6437e1b1a726d</td>\n",
       "      <td>\\N</td>\n",
       "      <td>3</td>\n",
       "      <td>NaN</td>\n",
       "      <td>46.2048</td>\n",
       "      <td>6.14319</td>\n",
       "      <td>foursquare</td>\n",
       "      <td>http://foursquare.com</td>\n",
       "      <td>Alkan Şenli</td>\n",
       "      <td>Alkanoli</td>\n",
       "      <td>204</td>\n",
       "      <td>172</td>\n",
       "      <td>3390</td>\n",
       "      <td>İstanbul/Burgazada</td>\n",
       "    </tr>\n",
       "  </tbody>\n",
       "</table>\n",
       "</div>"
      ],
      "text/plain": [
       "                                userId            createdAt  \\\n",
       "id                                                            \n",
       "776522983837954049  735449229028675584  2016-09-15 20:48:01   \n",
       "776523000636203010          2741685639  2016-09-15 20:48:05   \n",
       "776523045200691200           435239151  2016-09-15 20:48:15   \n",
       "776523058404290560           503244217  2016-09-15 20:48:18   \n",
       "776523058504925185           452805259  2016-09-15 20:48:18   \n",
       "\n",
       "                                                                 text  \\\n",
       "id                                                                      \n",
       "776522983837954049           se lo dici tu... https://t.co/x7Qm1VHBKL   \n",
       "776523000636203010                            https://t.co/noYrTnqmg9   \n",
       "776523045200691200  @BesacTof @Leonid_CCCP Tu dois t'engager en si...   \n",
       "776523058404290560  @Mno0or_Abyat اشوف مظاهرات على قانون العمل الج...   \n",
       "776523058504925185  Greek night #geneve (@ Emilios in Genève) http...   \n",
       "\n",
       "                   longitude latitude           placeId           inReplyTo  \\\n",
       "id                                                                            \n",
       "776522983837954049        \\N       \\N  51c0e6b24c64e54e                  \\N   \n",
       "776523000636203010        \\N       \\N  4e7c21fd2af027c6                  \\N   \n",
       "776523045200691200        \\N       \\N  12eb9b254faf37a3  776522113859608576   \n",
       "776523058404290560        \\N       \\N  30bcd7f767b4041e  776521597515624448   \n",
       "776523058504925185   6.14414  46.1966  c3a6437e1b1a726d                  \\N   \n",
       "\n",
       "                    source  truncated  placeLatitude  placeLongitude  \\\n",
       "id                                                                     \n",
       "776522983837954049       1        NaN        46.0027         8.96044   \n",
       "776523000636203010       1        NaN        46.8131         8.22414   \n",
       "776523045200691200       5        NaN        47.2010         5.94082   \n",
       "776523058404290560       1        NaN        45.8011         6.16552   \n",
       "776523058504925185       3        NaN        46.2048         6.14319   \n",
       "\n",
       "                             sourceName  \\\n",
       "id                                        \n",
       "776522983837954049   Twitter for iPhone   \n",
       "776523000636203010   Twitter for iPhone   \n",
       "776523045200691200  Twitter for Android   \n",
       "776523058404290560   Twitter for iPhone   \n",
       "776523058504925185           foursquare   \n",
       "\n",
       "                                                sourceUrl         userName  \\\n",
       "id                                                                           \n",
       "776522983837954049  http://twitter.com/#!/download/iphone  plvtone filiae.   \n",
       "776523000636203010  http://twitter.com/#!/download/iphone           samara   \n",
       "776523045200691200    http://twitter.com/download/android        lebrübrü❤   \n",
       "776523058404290560  http://twitter.com/#!/download/iphone   عبدالله القنيص   \n",
       "776523058504925185                  http://foursquare.com      Alkan Şenli   \n",
       "\n",
       "                   screenName  followersCount  friendsCount  statusesCount  \\\n",
       "id                                                                           \n",
       "776522983837954049  hazel_chb             146           110          28621   \n",
       "776523000636203010   letisieg             755          2037           3771   \n",
       "776523045200691200   lebrubru             811           595          30191   \n",
       "776523058404290560   bingnais           28433           417          12262   \n",
       "776523058504925185   Alkanoli             204           172           3390   \n",
       "\n",
       "                          userLocation  \n",
       "id                                      \n",
       "776522983837954049           Earleen.   \n",
       "776523000636203010              Suisse  \n",
       "776523045200691200             Fontain  \n",
       "776523058404290560           Shargeyah  \n",
       "776523058504925185  İstanbul/Burgazada  "
      ]
     },
     "execution_count": 149,
     "metadata": {},
     "output_type": "execute_result"
    }
   ],
   "source": [
    "import csv\n",
    "sample_data = pd.read_table(r\"data_clean/sample_formatted.tsv\",sep='\\t', quoting=csv.QUOTE_NONE, header=None, names=data_columns, index_col=0)\n",
    "sample_data.head()"
   ]
  },
  {
   "cell_type": "markdown",
   "metadata": {},
   "source": [
    "## 0.3 Data stats"
   ]
  },
  {
   "cell_type": "code",
   "execution_count": 151,
   "metadata": {
    "collapsed": false
   },
   "outputs": [
    {
     "data": {
      "text/plain": [
       "8790"
      ]
     },
     "execution_count": 151,
     "metadata": {},
     "output_type": "execute_result"
    }
   ],
   "source": [
    "len(sample_data)"
   ]
  },
  {
   "cell_type": "code",
   "execution_count": 158,
   "metadata": {
    "collapsed": false
   },
   "outputs": [
    {
     "data": {
      "text/plain": [
       "id\n",
       "776523375585923072    NaN\n",
       "776523779556118529    NaN\n",
       "776527040581406720    NaN\n",
       "776529088081195008    NaN\n",
       "776529152002428928    NaN\n",
       "776530994543333377    NaN\n",
       "776531875762466816    NaN\n",
       "776532154230734848    NaN\n",
       "776534662445469696    NaN\n",
       "776535185550639104    NaN\n",
       "776536240476880896    NaN\n",
       "776536854057349120    NaN\n",
       "776537026996891649    NaN\n",
       "776537681077600258    NaN\n",
       "776538830841253890    NaN\n",
       "776543990283956224    NaN\n",
       "776547011898245121    NaN\n",
       "776547246355652609    NaN\n",
       "776547299682054144    NaN\n",
       "776550967055638528    NaN\n",
       "776552272599875584    NaN\n",
       "776553481729667074    NaN\n",
       "776556434049888257    NaN\n",
       "776560854481379329    NaN\n",
       "776563963756707845    NaN\n",
       "776574235678564352    NaN\n",
       "776583741695139840    NaN\n",
       "776593476792168448    NaN\n",
       "776595512900321280    NaN\n",
       "776636303203045377    NaN\n",
       "                     ... \n",
       "776741317648982016    NaN\n",
       "776744289107898368    NaN\n",
       "776745663988105216    NaN\n",
       "776745714659581952    NaN\n",
       "776746721284087808    NaN\n",
       "776747965339856896    NaN\n",
       "776751397572382720    NaN\n",
       "776752557121306624    NaN\n",
       "776757112676442112    NaN\n",
       "776761035588001792    NaN\n",
       "776764909401075712    NaN\n",
       "776766294108495872    NaN\n",
       "776772629407657984    NaN\n",
       "776774325533757440    NaN\n",
       "776775165774483456    NaN\n",
       "776776202073870336    NaN\n",
       "776783477035401216    NaN\n",
       "776790092153257985    NaN\n",
       "776792707058589697    NaN\n",
       "776793041847906306    NaN\n",
       "776794945361473536    NaN\n",
       "776795071601606656    NaN\n",
       "776799294875656193    NaN\n",
       "776800555167518720    NaN\n",
       "776803473220329472    NaN\n",
       "776809054974902272    NaN\n",
       "776809077129277441    NaN\n",
       "776809509926805508    NaN\n",
       "776817446569275392    NaN\n",
       "776819850152964096    NaN\n",
       "Name: text, dtype: object"
      ]
     },
     "execution_count": 158,
     "metadata": {},
     "output_type": "execute_result"
    }
   ],
   "source": [
    "tweet_text = sample_data.text\n",
    "tweet_text[tweet_text.isnull()]"
   ]
  }
 ],
 "metadata": {
  "anaconda-cloud": {},
  "kernelspec": {
   "display_name": "Python [conda root]",
   "language": "python",
   "name": "conda-root-py"
  },
  "language_info": {
   "codemirror_mode": {
    "name": "ipython",
    "version": 3
   },
   "file_extension": ".py",
   "mimetype": "text/x-python",
   "name": "python",
   "nbconvert_exporter": "python",
   "pygments_lexer": "ipython3",
   "version": "3.5.2"
  }
 },
 "nbformat": 4,
 "nbformat_minor": 1
}
