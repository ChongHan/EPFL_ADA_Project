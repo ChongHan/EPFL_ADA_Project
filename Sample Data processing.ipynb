{
 "cells": [
  {
   "cell_type": "code",
   "execution_count": 1,
   "metadata": {
    "collapsed": true
   },
   "outputs": [],
   "source": [
    "# ADA Project: Tweet sentiments classification"
   ]
  },
  {
   "cell_type": "markdown",
   "metadata": {},
   "source": [
    "# Purpose of this notebook: \n",
    "Before diving to the huge daasets provided by Swisscom, need to understand it and understand want we want to do with it. So we will use this notebook with a small sample of the datasets, to simulate the steps of our project. The final goal is to create a python scipt, so we just need to launch it on the cluster to obtain the desired results."
   ]
  },
  {
   "cell_type": "code",
   "execution_count": 2,
   "metadata": {
    "collapsed": true
   },
   "outputs": [],
   "source": [
    "import pandas as pd"
   ]
  },
  {
   "cell_type": "markdown",
   "metadata": {},
   "source": [
    "# 0. Data exploration"
   ]
  },
  {
   "cell_type": "markdown",
   "metadata": {},
   "source": [
    "## 0.1 Start by loading the schema of the data.\n",
    "\n",
    "Note that *schema.txt* file given in the epfl cluster was manually modified in order to import it easily with pandas."
   ]
  },
  {
   "cell_type": "code",
   "execution_count": 3,
   "metadata": {
    "collapsed": false
   },
   "outputs": [
    {
     "name": "stdout",
     "output_type": "stream",
     "text": [
      "Nbr features: 20\n"
     ]
    },
    {
     "data": {
      "text/plain": [
       "['id',\n",
       " 'userId',\n",
       " 'createdAt',\n",
       " 'text',\n",
       " 'longitude',\n",
       " 'latitude',\n",
       " 'placeId',\n",
       " 'inReplyTo',\n",
       " 'source',\n",
       " 'truncated',\n",
       " 'placeLatitude',\n",
       " 'placeLongitude',\n",
       " 'sourceName',\n",
       " 'sourceUrl',\n",
       " 'userName',\n",
       " 'screenName',\n",
       " 'followersCount',\n",
       " 'friendsCount',\n",
       " 'statusesCount',\n",
       " 'userLocation']"
      ]
     },
     "execution_count": 3,
     "metadata": {},
     "output_type": "execute_result"
    }
   ],
   "source": [
    "schema_rawfile = pd.read_csv(\"twitter-swisscom/schema_home.txt\", header=None, sep='\\s+')\n",
    "twitter_data_columns = schema_rawfile[1].values\n",
    "print(\"Nbr features:\",len(twitter_data_columns))\n",
    "list(twitter_data_columns)"
   ]
  },
  {
   "cell_type": "code",
   "execution_count": 4,
   "metadata": {
    "collapsed": false
   },
   "outputs": [],
   "source": [
    "data_columns = schema_rawfile[1].values"
   ]
  },
  {
   "cell_type": "markdown",
   "metadata": {},
   "source": [
    "## 0.2 Import sample of the data\n",
    "\n",
    "We will not work directly with the entire datasets. Instead, we prepare our code and function here, with a small sample of the data. Then we create a script to be executed in the EPFL cluster."
   ]
  },
  {
   "cell_type": "markdown",
   "metadata": {},
   "source": [
    "**First step:** \"Clean\" the tsv file. The files we are given are in a *.tsv* format: there is one tweet per line and each features within a tweet are separated by a tab. Unfortunately, some tweets text contain break line (*\\n*). If we try to import them like that, python will take those break line *\\n* as a new line, therefore as a new tweet. \n",
    "\n",
    "But the break line inside the tweets are preceed by a backslash. Therefore, we run a bash command to replace all combination of *\\ + \\n* by a simple white space.\n",
    "\n",
    ">     sed -e :a -e '/\\\\$/N; s/\\\\\\n/ /; ta' twitter-swisscom/sample.tsv  > data_clean/sample.tsv"
   ]
  },
  {
   "cell_type": "markdown",
   "metadata": {},
   "source": [
    "**Second step**: The file *data_clean/sample.tsv* has the following attributes:\n",
    "\n",
    "    *application/octet-stream; charset=binary*\n",
    "\n",
    "Therefore, we cannot load it *as is* into a pandas Dataframe. We will convert it to a simple *text/plain* with encoding *utf-8*, that pandas can perfectly handle.\n",
    "\n",
    ">     cat data_clean/sample.tsv | tr -d '\\0' > data_clean/sample_formatted.tsv"
   ]
  },
  {
   "cell_type": "markdown",
   "metadata": {},
   "source": [
    "**Third step**: Now we can import the data to a pandas dataframe."
   ]
  },
  {
   "cell_type": "code",
   "execution_count": 5,
   "metadata": {
    "collapsed": false
   },
   "outputs": [
    {
     "data": {
      "text/html": [
       "<div>\n",
       "<table border=\"1\" class=\"dataframe\">\n",
       "  <thead>\n",
       "    <tr style=\"text-align: right;\">\n",
       "      <th></th>\n",
       "      <th>userId</th>\n",
       "      <th>createdAt</th>\n",
       "      <th>text</th>\n",
       "      <th>longitude</th>\n",
       "      <th>latitude</th>\n",
       "      <th>placeId</th>\n",
       "      <th>inReplyTo</th>\n",
       "      <th>source</th>\n",
       "      <th>truncated</th>\n",
       "      <th>placeLatitude</th>\n",
       "      <th>placeLongitude</th>\n",
       "      <th>sourceName</th>\n",
       "      <th>sourceUrl</th>\n",
       "      <th>userName</th>\n",
       "      <th>screenName</th>\n",
       "      <th>followersCount</th>\n",
       "      <th>friendsCount</th>\n",
       "      <th>statusesCount</th>\n",
       "      <th>userLocation</th>\n",
       "    </tr>\n",
       "    <tr>\n",
       "      <th>id</th>\n",
       "      <th></th>\n",
       "      <th></th>\n",
       "      <th></th>\n",
       "      <th></th>\n",
       "      <th></th>\n",
       "      <th></th>\n",
       "      <th></th>\n",
       "      <th></th>\n",
       "      <th></th>\n",
       "      <th></th>\n",
       "      <th></th>\n",
       "      <th></th>\n",
       "      <th></th>\n",
       "      <th></th>\n",
       "      <th></th>\n",
       "      <th></th>\n",
       "      <th></th>\n",
       "      <th></th>\n",
       "      <th></th>\n",
       "    </tr>\n",
       "  </thead>\n",
       "  <tbody>\n",
       "    <tr>\n",
       "      <th>776522983837954049</th>\n",
       "      <td>735449229028675584</td>\n",
       "      <td>2016-09-15 20:48:01</td>\n",
       "      <td>se lo dici tu... https://t.co/x7Qm1VHBKL</td>\n",
       "      <td>\\N</td>\n",
       "      <td>\\N</td>\n",
       "      <td>51c0e6b24c64e54e</td>\n",
       "      <td>\\N</td>\n",
       "      <td>1</td>\n",
       "      <td>NaN</td>\n",
       "      <td>46.0027</td>\n",
       "      <td>8.96044</td>\n",
       "      <td>Twitter for iPhone</td>\n",
       "      <td>http://twitter.com/#!/download/iphone</td>\n",
       "      <td>plvtone filiae.</td>\n",
       "      <td>hazel_chb</td>\n",
       "      <td>146</td>\n",
       "      <td>110</td>\n",
       "      <td>28621</td>\n",
       "      <td>Earleen.</td>\n",
       "    </tr>\n",
       "    <tr>\n",
       "      <th>776523000636203010</th>\n",
       "      <td>2741685639</td>\n",
       "      <td>2016-09-15 20:48:05</td>\n",
       "      <td>https://t.co/noYrTnqmg9</td>\n",
       "      <td>\\N</td>\n",
       "      <td>\\N</td>\n",
       "      <td>4e7c21fd2af027c6</td>\n",
       "      <td>\\N</td>\n",
       "      <td>1</td>\n",
       "      <td>NaN</td>\n",
       "      <td>46.8131</td>\n",
       "      <td>8.22414</td>\n",
       "      <td>Twitter for iPhone</td>\n",
       "      <td>http://twitter.com/#!/download/iphone</td>\n",
       "      <td>samara</td>\n",
       "      <td>letisieg</td>\n",
       "      <td>755</td>\n",
       "      <td>2037</td>\n",
       "      <td>3771</td>\n",
       "      <td>Suisse</td>\n",
       "    </tr>\n",
       "    <tr>\n",
       "      <th>776523045200691200</th>\n",
       "      <td>435239151</td>\n",
       "      <td>2016-09-15 20:48:15</td>\n",
       "      <td>@BesacTof @Leonid_CCCP Tu dois t'engager en si...</td>\n",
       "      <td>\\N</td>\n",
       "      <td>\\N</td>\n",
       "      <td>12eb9b254faf37a3</td>\n",
       "      <td>776522113859608576</td>\n",
       "      <td>5</td>\n",
       "      <td>NaN</td>\n",
       "      <td>47.2010</td>\n",
       "      <td>5.94082</td>\n",
       "      <td>Twitter for Android</td>\n",
       "      <td>http://twitter.com/download/android</td>\n",
       "      <td>lebrübrü❤</td>\n",
       "      <td>lebrubru</td>\n",
       "      <td>811</td>\n",
       "      <td>595</td>\n",
       "      <td>30191</td>\n",
       "      <td>Fontain</td>\n",
       "    </tr>\n",
       "    <tr>\n",
       "      <th>776523058404290560</th>\n",
       "      <td>503244217</td>\n",
       "      <td>2016-09-15 20:48:18</td>\n",
       "      <td>@Mno0or_Abyat اشوف مظاهرات على قانون العمل الج...</td>\n",
       "      <td>\\N</td>\n",
       "      <td>\\N</td>\n",
       "      <td>30bcd7f767b4041e</td>\n",
       "      <td>776521597515624448</td>\n",
       "      <td>1</td>\n",
       "      <td>NaN</td>\n",
       "      <td>45.8011</td>\n",
       "      <td>6.16552</td>\n",
       "      <td>Twitter for iPhone</td>\n",
       "      <td>http://twitter.com/#!/download/iphone</td>\n",
       "      <td>عبدالله القنيص</td>\n",
       "      <td>bingnais</td>\n",
       "      <td>28433</td>\n",
       "      <td>417</td>\n",
       "      <td>12262</td>\n",
       "      <td>Shargeyah</td>\n",
       "    </tr>\n",
       "    <tr>\n",
       "      <th>776523058504925185</th>\n",
       "      <td>452805259</td>\n",
       "      <td>2016-09-15 20:48:18</td>\n",
       "      <td>Greek night #geneve (@ Emilios in Genève) http...</td>\n",
       "      <td>6.14414</td>\n",
       "      <td>46.1966</td>\n",
       "      <td>c3a6437e1b1a726d</td>\n",
       "      <td>\\N</td>\n",
       "      <td>3</td>\n",
       "      <td>NaN</td>\n",
       "      <td>46.2048</td>\n",
       "      <td>6.14319</td>\n",
       "      <td>foursquare</td>\n",
       "      <td>http://foursquare.com</td>\n",
       "      <td>Alkan Şenli</td>\n",
       "      <td>Alkanoli</td>\n",
       "      <td>204</td>\n",
       "      <td>172</td>\n",
       "      <td>3390</td>\n",
       "      <td>İstanbul/Burgazada</td>\n",
       "    </tr>\n",
       "  </tbody>\n",
       "</table>\n",
       "</div>"
      ],
      "text/plain": [
       "                                userId            createdAt  \\\n",
       "id                                                            \n",
       "776522983837954049  735449229028675584  2016-09-15 20:48:01   \n",
       "776523000636203010          2741685639  2016-09-15 20:48:05   \n",
       "776523045200691200           435239151  2016-09-15 20:48:15   \n",
       "776523058404290560           503244217  2016-09-15 20:48:18   \n",
       "776523058504925185           452805259  2016-09-15 20:48:18   \n",
       "\n",
       "                                                                 text  \\\n",
       "id                                                                      \n",
       "776522983837954049           se lo dici tu... https://t.co/x7Qm1VHBKL   \n",
       "776523000636203010                            https://t.co/noYrTnqmg9   \n",
       "776523045200691200  @BesacTof @Leonid_CCCP Tu dois t'engager en si...   \n",
       "776523058404290560  @Mno0or_Abyat اشوف مظاهرات على قانون العمل الج...   \n",
       "776523058504925185  Greek night #geneve (@ Emilios in Genève) http...   \n",
       "\n",
       "                   longitude latitude           placeId           inReplyTo  \\\n",
       "id                                                                            \n",
       "776522983837954049        \\N       \\N  51c0e6b24c64e54e                  \\N   \n",
       "776523000636203010        \\N       \\N  4e7c21fd2af027c6                  \\N   \n",
       "776523045200691200        \\N       \\N  12eb9b254faf37a3  776522113859608576   \n",
       "776523058404290560        \\N       \\N  30bcd7f767b4041e  776521597515624448   \n",
       "776523058504925185   6.14414  46.1966  c3a6437e1b1a726d                  \\N   \n",
       "\n",
       "                    source  truncated  placeLatitude  placeLongitude  \\\n",
       "id                                                                     \n",
       "776522983837954049       1        NaN        46.0027         8.96044   \n",
       "776523000636203010       1        NaN        46.8131         8.22414   \n",
       "776523045200691200       5        NaN        47.2010         5.94082   \n",
       "776523058404290560       1        NaN        45.8011         6.16552   \n",
       "776523058504925185       3        NaN        46.2048         6.14319   \n",
       "\n",
       "                             sourceName  \\\n",
       "id                                        \n",
       "776522983837954049   Twitter for iPhone   \n",
       "776523000636203010   Twitter for iPhone   \n",
       "776523045200691200  Twitter for Android   \n",
       "776523058404290560   Twitter for iPhone   \n",
       "776523058504925185           foursquare   \n",
       "\n",
       "                                                sourceUrl         userName  \\\n",
       "id                                                                           \n",
       "776522983837954049  http://twitter.com/#!/download/iphone  plvtone filiae.   \n",
       "776523000636203010  http://twitter.com/#!/download/iphone           samara   \n",
       "776523045200691200    http://twitter.com/download/android        lebrübrü❤   \n",
       "776523058404290560  http://twitter.com/#!/download/iphone   عبدالله القنيص   \n",
       "776523058504925185                  http://foursquare.com      Alkan Şenli   \n",
       "\n",
       "                   screenName  followersCount  friendsCount  statusesCount  \\\n",
       "id                                                                           \n",
       "776522983837954049  hazel_chb             146           110          28621   \n",
       "776523000636203010   letisieg             755          2037           3771   \n",
       "776523045200691200   lebrubru             811           595          30191   \n",
       "776523058404290560   bingnais           28433           417          12262   \n",
       "776523058504925185   Alkanoli             204           172           3390   \n",
       "\n",
       "                          userLocation  \n",
       "id                                      \n",
       "776522983837954049           Earleen.   \n",
       "776523000636203010              Suisse  \n",
       "776523045200691200             Fontain  \n",
       "776523058404290560           Shargeyah  \n",
       "776523058504925185  İstanbul/Burgazada  "
      ]
     },
     "execution_count": 5,
     "metadata": {},
     "output_type": "execute_result"
    }
   ],
   "source": [
    "import csv\n",
    "sample_data = pd.read_table(r\"data_clean/sample_formatted.tsv\",sep='\\t', quoting=csv.QUOTE_NONE, header=None, names=data_columns, index_col=0)\n",
    "sample_data.head()"
   ]
  },
  {
   "cell_type": "markdown",
   "metadata": {},
   "source": [
    "## 0.3 Data stats"
   ]
  },
  {
   "cell_type": "code",
   "execution_count": 6,
   "metadata": {
    "collapsed": false
   },
   "outputs": [
    {
     "data": {
      "text/plain": [
       "8790"
      ]
     },
     "execution_count": 6,
     "metadata": {},
     "output_type": "execute_result"
    }
   ],
   "source": [
    "len(sample_data)"
   ]
  },
  {
   "cell_type": "markdown",
   "metadata": {},
   "source": [
    "### 0.3.1 Percentage with geolocation"
   ]
  },
  {
   "cell_type": "code",
   "execution_count": 21,
   "metadata": {
    "collapsed": false
   },
   "outputs": [
    {
     "name": "stdout",
     "output_type": "stream",
     "text": [
      "Percentage of data with longitude info: 17.6905574516\n",
      "Nbr:  1555\n"
     ]
    }
   ],
   "source": [
    "long = sample_data.longitude\n",
    "long_not_null = (long != r'\\N').sum()\n",
    "print(\"Percentage of data with longitude info:\", 100*(long_not_null/len(sample_data)))\n",
    "print(\"Nbr: \", long_not_null)"
   ]
  },
  {
   "cell_type": "code",
   "execution_count": 22,
   "metadata": {
    "collapsed": false
   },
   "outputs": [
    {
     "name": "stdout",
     "output_type": "stream",
     "text": [
      "Percentage of data with latitude info: 17.6905574516\n",
      "Nbr:  1555\n"
     ]
    }
   ],
   "source": [
    "lat = sample_data.latitude\n",
    "lat_not_null = (lat != r'\\N').sum()\n",
    "print(\"Percentage of data with latitude info:\", 100*(lat_not_null/len(sample_data)))\n",
    "print(\"Nbr: \", lat_not_null)"
   ]
  },
  {
   "cell_type": "code",
   "execution_count": 26,
   "metadata": {
    "collapsed": false
   },
   "outputs": [
    {
     "name": "stdout",
     "output_type": "stream",
     "text": [
      "Is there null long/lat with valid lat/long ? : False\n"
     ]
    }
   ],
   "source": [
    "long_not_null = long!=r'\\N'\n",
    "lat_not_null = lat!=r'\\N'\n",
    "diff = (long_not_null != lat_not_null).any()\n",
    "print(\"Is there null long/lat with valid lat/long ? :\", diff)"
   ]
  },
  {
   "cell_type": "markdown",
   "metadata": {},
   "source": [
    "That's for the latitude/longitude... what ? The user ? \n",
    "Because we also have the fields ***placeLongitude*** and ***placeLatitude***.\n",
    "\n",
    "From the twitter api:\n",
    "> Places are specific, named locations with corresponding geo coordinates. They can be attached to Tweets by specifying a place_id when tweeting. Tweets associated with places are not necessarily issued from that location but could also potentially be about that location.\n",
    "\n",
    "Since we want to map the sentiment of tweet with a given location, we will use fields ***placeLongitude*** and ***placeLatitude*** for this project."
   ]
  },
  {
   "cell_type": "code",
   "execution_count": 79,
   "metadata": {
    "collapsed": false
   },
   "outputs": [
    {
     "name": "stderr",
     "output_type": "stream",
     "text": [
      "/home/ra-danny/anaconda3/lib/python3.5/site-packages/ipykernel/__main__.py:2: FutureWarning: sort is deprecated, use sort_values(inplace=True) for INPLACE sorting\n",
      "  from ipykernel import kernelapp as app\n"
     ]
    },
    {
     "data": {
      "text/plain": [
       "placeId\n",
       "3acb748d0f1e9265    835\n",
       "c3a6437e1b1a726d    825\n",
       "04578354cff6f4b1    365\n",
       "8b3e53628223753a    318\n",
       "6c07f3233c333f95    251\n",
       "bbf6c74e4f26f23d    208\n",
       "12eb9b254faf37a3    208\n",
       "51c0e6b24c64e54e    169\n",
       "1ec449abab9e0ec8    125\n",
       "3cb0557357370cbf    110\n",
       "e38a1a641d02f8db    109\n",
       "4e7c21fd2af027c6    106\n",
       "bec98271815d2329     98\n",
       "cd661902b07eb657     96\n",
       "1d4e1f5605836450     92\n",
       "3762f0997bd0c84b     90\n",
       "dfbf4ce81da97883     82\n",
       "5e39c02d7b0fa13a     70\n",
       "094f032bf5c78dc8     67\n",
       "af27c5a148d8371f     67\n",
       "485374deda4cf2ca     66\n",
       "068c70be7b3a4cc2     66\n",
       "57d9b5e0a53e48e5     63\n",
       "2d1bdaaa734bb96a     62\n",
       "a1b759dc059e346f     59\n",
       "ed643913fb3cab42     57\n",
       "1ebde7593f067b2c     51\n",
       "384df7b39fc369c8     50\n",
       "ec72c229283bb562     48\n",
       "2f41eda3156d6485     46\n",
       "                   ... \n",
       "48950e695c18c826      1\n",
       "870d500f8d9d8edd      1\n",
       "8ebf55849f24fbe1      1\n",
       "4455634241fb3569      1\n",
       "96ea76d4e93b725a      1\n",
       "44078048b6253bac      1\n",
       "96e087c60293eed6      1\n",
       "96957eca37d4de9e      1\n",
       "4066be3eef8e635e      1\n",
       "966717ca052da216      1\n",
       "965e06665c1e0c9f      1\n",
       "40ee5ca6ab5b99f3      1\n",
       "9423b4c0d63cb96f      1\n",
       "4136c9f1b297e738      1\n",
       "41692c769dc9b59f      1\n",
       "41bbed56a13017ad      1\n",
       "91f98d7addb5ad13      1\n",
       "91e45b548436ad63      1\n",
       "91be6261fc5f3633      1\n",
       "42c387fe8e1b2e4f      1\n",
       "918ce1dd3c0b7eef      1\n",
       "916c9fec12d8fb8a      1\n",
       "4328f5b1d1da9fc4      1\n",
       "90ec98540687fda2      1\n",
       "4346eb4646bea77a      1\n",
       "9090f2fb8bc8d6b4      1\n",
       "9085b9198109d81c      1\n",
       "905de037f22c9fd8      1\n",
       "4399f301f1312f03      1\n",
       "ffa5c982527e9a43      1\n",
       "dtype: int64"
      ]
     },
     "execution_count": 79,
     "metadata": {},
     "output_type": "execute_result"
    }
   ],
   "source": [
    "xx = sample_data.groupby(['placeId']).size()\n",
    "xx.sort(ascending=False)\n",
    "xx"
   ]
  }
 ],
 "metadata": {
  "anaconda-cloud": {},
  "kernelspec": {
   "display_name": "Python [conda root]",
   "language": "python",
   "name": "conda-root-py"
  },
  "language_info": {
   "codemirror_mode": {
    "name": "ipython",
    "version": 3
   },
   "file_extension": ".py",
   "mimetype": "text/x-python",
   "name": "python",
   "nbconvert_exporter": "python",
   "pygments_lexer": "ipython3",
   "version": "3.5.2"
  }
 },
 "nbformat": 4,
 "nbformat_minor": 1
}
